{
 "cells": [
  {
   "cell_type": "code",
   "execution_count": 5,
   "id": "527e57d7",
   "metadata": {},
   "outputs": [
    {
     "name": "stdout",
     "output_type": "stream",
     "text": [
      "Defaulting to user installation because normal site-packages is not writeable\n",
      "Requirement already satisfied: pandas in c:\\users\\sampr\\appdata\\roaming\\python\\python313\\site-packages (2.2.3)\n",
      "Requirement already satisfied: numpy>=1.26.0 in c:\\users\\sampr\\appdata\\roaming\\python\\python313\\site-packages (from pandas) (2.2.5)\n",
      "Requirement already satisfied: python-dateutil>=2.8.2 in c:\\users\\sampr\\appdata\\roaming\\python\\python313\\site-packages (from pandas) (2.9.0.post0)\n",
      "Requirement already satisfied: pytz>=2020.1 in c:\\users\\sampr\\appdata\\roaming\\python\\python313\\site-packages (from pandas) (2025.2)\n",
      "Requirement already satisfied: tzdata>=2022.7 in c:\\users\\sampr\\appdata\\roaming\\python\\python313\\site-packages (from pandas) (2025.2)\n",
      "Requirement already satisfied: six>=1.5 in c:\\users\\sampr\\appdata\\roaming\\python\\python313\\site-packages (from python-dateutil>=2.8.2->pandas) (1.17.0)\n"
     ]
    },
    {
     "name": "stderr",
     "output_type": "stream",
     "text": [
      "\n",
      "[notice] A new release of pip is available: 25.0.1 -> 25.1.1\n",
      "[notice] To update, run: python.exe -m pip install --upgrade pip\n"
     ]
    }
   ],
   "source": [
    "!pip install pandas\n"
   ]
  },
  {
   "cell_type": "code",
   "execution_count": 6,
   "id": "39d2dc67",
   "metadata": {},
   "outputs": [
    {
     "data": {
      "text/html": [
       "<div>\n",
       "<style scoped>\n",
       "    .dataframe tbody tr th:only-of-type {\n",
       "        vertical-align: middle;\n",
       "    }\n",
       "\n",
       "    .dataframe tbody tr th {\n",
       "        vertical-align: top;\n",
       "    }\n",
       "\n",
       "    .dataframe thead th {\n",
       "        text-align: right;\n",
       "    }\n",
       "</style>\n",
       "<table border=\"1\" class=\"dataframe\">\n",
       "  <thead>\n",
       "    <tr style=\"text-align: right;\">\n",
       "      <th></th>\n",
       "      <th>name</th>\n",
       "      <th>album</th>\n",
       "      <th>artist</th>\n",
       "      <th>id</th>\n",
       "      <th>release_date</th>\n",
       "      <th>popularity</th>\n",
       "      <th>length</th>\n",
       "      <th>danceability</th>\n",
       "      <th>acousticness</th>\n",
       "      <th>energy</th>\n",
       "      <th>instrumentalness</th>\n",
       "      <th>liveness</th>\n",
       "      <th>valence</th>\n",
       "      <th>loudness</th>\n",
       "      <th>speechiness</th>\n",
       "      <th>tempo</th>\n",
       "      <th>key</th>\n",
       "      <th>time_signature</th>\n",
       "      <th>mood</th>\n",
       "    </tr>\n",
       "  </thead>\n",
       "  <tbody>\n",
       "    <tr>\n",
       "      <th>0</th>\n",
       "      <td>1999</td>\n",
       "      <td>1999</td>\n",
       "      <td>Prince</td>\n",
       "      <td>2H7PHVdQ3mXqEHXcvclTB0</td>\n",
       "      <td>1982-10-27</td>\n",
       "      <td>68</td>\n",
       "      <td>379266</td>\n",
       "      <td>0.866</td>\n",
       "      <td>0.13700</td>\n",
       "      <td>0.730</td>\n",
       "      <td>0.000000</td>\n",
       "      <td>0.0843</td>\n",
       "      <td>0.625</td>\n",
       "      <td>-8.201</td>\n",
       "      <td>0.0767</td>\n",
       "      <td>118.523</td>\n",
       "      <td>5</td>\n",
       "      <td>4</td>\n",
       "      <td>Happy</td>\n",
       "    </tr>\n",
       "    <tr>\n",
       "      <th>1</th>\n",
       "      <td>23</td>\n",
       "      <td>23</td>\n",
       "      <td>Blonde Redhead</td>\n",
       "      <td>4HIwL9ii9CcXpTOTzMq0MP</td>\n",
       "      <td>2007-04-16</td>\n",
       "      <td>43</td>\n",
       "      <td>318800</td>\n",
       "      <td>0.381</td>\n",
       "      <td>0.01890</td>\n",
       "      <td>0.832</td>\n",
       "      <td>0.196000</td>\n",
       "      <td>0.1530</td>\n",
       "      <td>0.166</td>\n",
       "      <td>-5.069</td>\n",
       "      <td>0.0492</td>\n",
       "      <td>120.255</td>\n",
       "      <td>8</td>\n",
       "      <td>4</td>\n",
       "      <td>Sad</td>\n",
       "    </tr>\n",
       "    <tr>\n",
       "      <th>2</th>\n",
       "      <td>9 Crimes</td>\n",
       "      <td>9</td>\n",
       "      <td>Damien Rice</td>\n",
       "      <td>5GZEeowhvSieFDiR8fQ2im</td>\n",
       "      <td>2006-11-06</td>\n",
       "      <td>60</td>\n",
       "      <td>217946</td>\n",
       "      <td>0.346</td>\n",
       "      <td>0.91300</td>\n",
       "      <td>0.139</td>\n",
       "      <td>0.000077</td>\n",
       "      <td>0.0934</td>\n",
       "      <td>0.116</td>\n",
       "      <td>-15.326</td>\n",
       "      <td>0.0321</td>\n",
       "      <td>136.168</td>\n",
       "      <td>0</td>\n",
       "      <td>4</td>\n",
       "      <td>Sad</td>\n",
       "    </tr>\n",
       "    <tr>\n",
       "      <th>3</th>\n",
       "      <td>99 Luftballons</td>\n",
       "      <td>99 Luftballons</td>\n",
       "      <td>Nena</td>\n",
       "      <td>6HA97v4wEGQ5TUClRM0XLc</td>\n",
       "      <td>1984-08-21</td>\n",
       "      <td>2</td>\n",
       "      <td>233000</td>\n",
       "      <td>0.466</td>\n",
       "      <td>0.08900</td>\n",
       "      <td>0.438</td>\n",
       "      <td>0.000006</td>\n",
       "      <td>0.1130</td>\n",
       "      <td>0.587</td>\n",
       "      <td>-12.858</td>\n",
       "      <td>0.0608</td>\n",
       "      <td>193.100</td>\n",
       "      <td>4</td>\n",
       "      <td>4</td>\n",
       "      <td>Happy</td>\n",
       "    </tr>\n",
       "    <tr>\n",
       "      <th>4</th>\n",
       "      <td>A Boy Brushed Red Living In Black And White</td>\n",
       "      <td>They're Only Chasing Safety</td>\n",
       "      <td>Underoath</td>\n",
       "      <td>47IWLfIKOKhFnz1FUEUIkE</td>\n",
       "      <td>2004-01-01</td>\n",
       "      <td>60</td>\n",
       "      <td>268000</td>\n",
       "      <td>0.419</td>\n",
       "      <td>0.00171</td>\n",
       "      <td>0.932</td>\n",
       "      <td>0.000000</td>\n",
       "      <td>0.1370</td>\n",
       "      <td>0.445</td>\n",
       "      <td>-3.604</td>\n",
       "      <td>0.1060</td>\n",
       "      <td>169.881</td>\n",
       "      <td>1</td>\n",
       "      <td>4</td>\n",
       "      <td>Energetic</td>\n",
       "    </tr>\n",
       "  </tbody>\n",
       "</table>\n",
       "</div>"
      ],
      "text/plain": [
       "                                          name                        album  \\\n",
       "0                                         1999                         1999   \n",
       "1                                           23                           23   \n",
       "2                                     9 Crimes                            9   \n",
       "3                               99 Luftballons               99 Luftballons   \n",
       "4  A Boy Brushed Red Living In Black And White  They're Only Chasing Safety   \n",
       "\n",
       "           artist                      id release_date  popularity  length  \\\n",
       "0          Prince  2H7PHVdQ3mXqEHXcvclTB0   1982-10-27          68  379266   \n",
       "1  Blonde Redhead  4HIwL9ii9CcXpTOTzMq0MP   2007-04-16          43  318800   \n",
       "2     Damien Rice  5GZEeowhvSieFDiR8fQ2im   2006-11-06          60  217946   \n",
       "3            Nena  6HA97v4wEGQ5TUClRM0XLc   1984-08-21           2  233000   \n",
       "4       Underoath  47IWLfIKOKhFnz1FUEUIkE   2004-01-01          60  268000   \n",
       "\n",
       "   danceability  acousticness  energy  instrumentalness  liveness  valence  \\\n",
       "0         0.866       0.13700   0.730          0.000000    0.0843    0.625   \n",
       "1         0.381       0.01890   0.832          0.196000    0.1530    0.166   \n",
       "2         0.346       0.91300   0.139          0.000077    0.0934    0.116   \n",
       "3         0.466       0.08900   0.438          0.000006    0.1130    0.587   \n",
       "4         0.419       0.00171   0.932          0.000000    0.1370    0.445   \n",
       "\n",
       "   loudness  speechiness    tempo  key  time_signature       mood  \n",
       "0    -8.201       0.0767  118.523    5               4      Happy  \n",
       "1    -5.069       0.0492  120.255    8               4        Sad  \n",
       "2   -15.326       0.0321  136.168    0               4        Sad  \n",
       "3   -12.858       0.0608  193.100    4               4      Happy  \n",
       "4    -3.604       0.1060  169.881    1               4  Energetic  "
      ]
     },
     "execution_count": 6,
     "metadata": {},
     "output_type": "execute_result"
    }
   ],
   "source": [
    "import pandas as pd\n",
    "\n",
    "file_path = r'C:\\Users\\sampr\\OneDrive\\Documents\\MoodifyProject\\data\\data_moods.csv'\n",
    "  # Replace with your actual file name\n",
    "\n",
    "# Try reading the file with 'ISO-8859-1' encoding\n",
    "df = pd.read_csv(file_path, encoding='ISO-8859-1')\n",
    "\n",
    "# Display the first 5 rows\n",
    "df.head()\n",
    "\n"
   ]
  },
  {
   "cell_type": "code",
   "execution_count": 7,
   "id": "d34e40f9",
   "metadata": {},
   "outputs": [
    {
     "name": "stdout",
     "output_type": "stream",
     "text": [
      "<class 'pandas.core.frame.DataFrame'>\n",
      "RangeIndex: 686 entries, 0 to 685\n",
      "Data columns (total 19 columns):\n",
      " #   Column            Non-Null Count  Dtype  \n",
      "---  ------            --------------  -----  \n",
      " 0   name              686 non-null    object \n",
      " 1   album             686 non-null    object \n",
      " 2   artist            686 non-null    object \n",
      " 3   id                686 non-null    object \n",
      " 4   release_date      686 non-null    object \n",
      " 5   popularity        686 non-null    int64  \n",
      " 6   length            686 non-null    int64  \n",
      " 7   danceability      686 non-null    float64\n",
      " 8   acousticness      686 non-null    float64\n",
      " 9   energy            686 non-null    float64\n",
      " 10  instrumentalness  686 non-null    float64\n",
      " 11  liveness          686 non-null    float64\n",
      " 12  valence           686 non-null    float64\n",
      " 13  loudness          686 non-null    float64\n",
      " 14  speechiness       686 non-null    float64\n",
      " 15  tempo             686 non-null    float64\n",
      " 16  key               686 non-null    int64  \n",
      " 17  time_signature    686 non-null    int64  \n",
      " 18  mood              686 non-null    object \n",
      "dtypes: float64(9), int64(4), object(6)\n",
      "memory usage: 102.0+ KB\n"
     ]
    }
   ],
   "source": [
    "# Display basic info about the dataset\n",
    "df.info()\n"
   ]
  },
  {
   "cell_type": "code",
   "execution_count": 8,
   "id": "81176567",
   "metadata": {},
   "outputs": [
    {
     "data": {
      "text/plain": [
       "name                0\n",
       "album               0\n",
       "artist              0\n",
       "id                  0\n",
       "release_date        0\n",
       "popularity          0\n",
       "length              0\n",
       "danceability        0\n",
       "acousticness        0\n",
       "energy              0\n",
       "instrumentalness    0\n",
       "liveness            0\n",
       "valence             0\n",
       "loudness            0\n",
       "speechiness         0\n",
       "tempo               0\n",
       "key                 0\n",
       "time_signature      0\n",
       "mood                0\n",
       "dtype: int64"
      ]
     },
     "execution_count": 8,
     "metadata": {},
     "output_type": "execute_result"
    }
   ],
   "source": [
    "df.isnull().sum()\n"
   ]
  },
  {
   "cell_type": "code",
   "execution_count": 9,
   "id": "fa615eb0",
   "metadata": {},
   "outputs": [
    {
     "data": {
      "text/plain": [
       "Index(['name', 'album', 'artist', 'id', 'release_date', 'popularity', 'length',\n",
       "       'danceability', 'acousticness', 'energy', 'instrumentalness',\n",
       "       'liveness', 'valence', 'loudness', 'speechiness', 'tempo', 'key',\n",
       "       'time_signature', 'mood'],\n",
       "      dtype='object')"
      ]
     },
     "execution_count": 9,
     "metadata": {},
     "output_type": "execute_result"
    }
   ],
   "source": [
    "df.columns\n"
   ]
  },
  {
   "cell_type": "code",
   "execution_count": 10,
   "id": "ac379a50",
   "metadata": {},
   "outputs": [
    {
     "name": "stderr",
     "output_type": "stream",
     "text": [
      "C:\\Users\\sampr\\AppData\\Local\\Temp\\ipykernel_28248\\3022104685.py:5: FutureWarning: A value is trying to be set on a copy of a DataFrame or Series through chained assignment using an inplace method.\n",
      "The behavior will change in pandas 3.0. This inplace method will never work because the intermediate object on which we are setting values always behaves as a copy.\n",
      "\n",
      "For example, when doing 'df[col].method(value, inplace=True)', try using 'df.method({col: value}, inplace=True)' or df[col] = df[col].method(value) instead, to perform the operation inplace on the original object.\n",
      "\n",
      "\n",
      "  df['danceability'].fillna(df['danceability'].median(), inplace=True)\n"
     ]
    }
   ],
   "source": [
    "# Drop rows with missing values\n",
    "df.dropna(inplace=True)\n",
    "\n",
    "# Alternatively, fill missing values (e.g., fill with median or mean)\n",
    "df['danceability'].fillna(df['danceability'].median(), inplace=True)\n"
   ]
  },
  {
   "cell_type": "code",
   "execution_count": 11,
   "id": "d414bab2",
   "metadata": {},
   "outputs": [
    {
     "data": {
      "text/plain": [
       "name                 object\n",
       "album                object\n",
       "artist               object\n",
       "id                   object\n",
       "release_date         object\n",
       "popularity            int64\n",
       "length                int64\n",
       "danceability        float64\n",
       "acousticness        float64\n",
       "energy              float64\n",
       "instrumentalness    float64\n",
       "liveness            float64\n",
       "valence             float64\n",
       "loudness            float64\n",
       "speechiness         float64\n",
       "tempo               float64\n",
       "key                   int64\n",
       "time_signature        int64\n",
       "mood                 object\n",
       "dtype: object"
      ]
     },
     "execution_count": 11,
     "metadata": {},
     "output_type": "execute_result"
    }
   ],
   "source": [
    "df.dtypes  # Check data types of columns\n"
   ]
  },
  {
   "cell_type": "code",
   "execution_count": 12,
   "id": "35cb5428",
   "metadata": {},
   "outputs": [],
   "source": [
    "df['release_date'] = pd.to_datetime(df['release_date'], format='mixed', errors='coerce')\n"
   ]
  },
  {
   "cell_type": "code",
   "execution_count": null,
   "id": "1a6f272f",
   "metadata": {},
   "outputs": [],
   "source": []
  },
  {
   "cell_type": "markdown",
   "id": "85c0f38f",
   "metadata": {},
   "source": [
    "creating new features FEATURE ENGINEERING"
   ]
  },
  {
   "cell_type": "markdown",
   "id": "2c434c94",
   "metadata": {},
   "source": [
    "converting release dates into year and months and then categorizing songs into energy levels ie high, medium, low energy"
   ]
  },
  {
   "cell_type": "code",
   "execution_count": 13,
   "id": "f69da293",
   "metadata": {},
   "outputs": [],
   "source": [
    "df['release_year'] = df['release_date'].dt.year\n",
    "df['release_month'] = df['release_date'].dt.month\n"
   ]
  },
  {
   "cell_type": "code",
   "execution_count": 14,
   "id": "11dcd1f0",
   "metadata": {},
   "outputs": [
    {
     "name": "stdout",
     "output_type": "stream",
     "text": [
      "   energy energy_category\n",
      "0   0.730            High\n",
      "1   0.832            High\n",
      "2   0.139             Low\n",
      "3   0.438          Medium\n",
      "4   0.932            High\n",
      "\n",
      "Energy Category Counts:\n",
      "energy_category\n",
      "Low       296\n",
      "High      250\n",
      "Medium    140\n",
      "Name: count, dtype: int64\n"
     ]
    }
   ],
   "source": [
    "def classify_energy(row):\n",
    "    if row['energy'] > 0.7:\n",
    "        return 'High'\n",
    "    elif row['energy'] > 0.4:\n",
    "        return 'Medium'\n",
    "    else:\n",
    "        return 'Low'\n",
    "\n",
    "df['energy_category'] = df.apply(classify_energy, axis=1)\n",
    "print(df[['energy', 'energy_category']].head())\n",
    "\n",
    "# Optionally, print counts of each category\n",
    "print(\"\\nEnergy Category Counts:\")\n",
    "print(df['energy_category'].value_counts())\n"
   ]
  },
  {
   "cell_type": "markdown",
   "id": "fa46b544",
   "metadata": {},
   "source": [
    "creating a new column called genre based on audio feature patterns from the datasets: Pop,Rock,Hip-hop,Electronic,Classical and Jazz\n"
   ]
  },
  {
   "cell_type": "code",
   "execution_count": 15,
   "id": "dd63b008",
   "metadata": {},
   "outputs": [],
   "source": [
    "def classify_genre(row):\n",
    "    if row['speechiness'] > 0.33 and row['energy'] > 0.6:\n",
    "        return 'Hip-Hop'\n",
    "    elif row['danceability'] > 0.7 and row['valence'] > 0.5:\n",
    "        return 'Pop'\n",
    "    elif row['energy'] > 0.7 and row['loudness'] > -6:\n",
    "        return 'Rock'\n",
    "    elif row['instrumentalness'] > 0.6 and row['tempo'] > 120:\n",
    "        return 'Electronic'\n",
    "    elif row['acousticness'] > 0.8 and row['energy'] < 0.3:\n",
    "        return 'Classical'\n",
    "    elif row['instrumentalness'] > 0.4 and 0.4 < row['energy'] < 0.7:\n",
    "        return 'Jazz'\n",
    "    else:\n",
    "        return 'Other'\n"
   ]
  },
  {
   "cell_type": "markdown",
   "id": "a973c1e5",
   "metadata": {},
   "source": [
    "showing the genre and mood of the first five rows and  the total categorization:"
   ]
  },
  {
   "cell_type": "code",
   "execution_count": 27,
   "id": "cd174d2c",
   "metadata": {},
   "outputs": [
    {
     "name": "stdout",
     "output_type": "stream",
     "text": [
      "                                          name      genre       mood\n",
      "0                                         1999        Pop      Happy\n",
      "1                                           23       Rock        Sad\n",
      "2                                     9 Crimes  Classical        Sad\n",
      "3                               99 Luftballons      Other      Happy\n",
      "4  A Boy Brushed Red Living In Black And White       Rock  Energetic\n",
      "genre\n",
      "Other         210\n",
      "Rock          169\n",
      "Classical     149\n",
      "Electronic     87\n",
      "Pop            42\n",
      "Jazz           27\n",
      "Hip-Hop         2\n",
      "Name: count, dtype: int64\n"
     ]
    }
   ],
   "source": [
    "df['genre'] = df.apply(classify_genre, axis=1)\n",
    "print(df[['name', 'genre', 'mood']].head())\n",
    "print(df['genre'].value_counts()) \n",
    "df.to_csv(r'C:\\Users\\sampr\\OneDrive\\Documents\\MoodifyProject\\data\\data_moods.csv', index=False)\n",
    "\n"
   ]
  },
  {
   "cell_type": "code",
   "execution_count": 26,
   "id": "90f50706",
   "metadata": {},
   "outputs": [],
   "source": [
    "df.to_csv(r'C:\\Users\\sampr\\OneDrive\\Documents\\MoodifyProject\\data\\data_moods.csv', index=False)\n"
   ]
  },
  {
   "cell_type": "markdown",
   "id": "8b5ca4e0",
   "metadata": {},
   "source": [
    "Step 4: Exploratory Data Analysis (EDA)\n",
    "Before building models or making recommendations, it’s helpful to explore the data visually:\n",
    "\n",
    "Mood Distribution:\n",
    "Plot the distribution of moods across songs."
   ]
  },
  {
   "cell_type": "code",
   "execution_count": 23,
   "id": "ac13b999",
   "metadata": {},
   "outputs": [
    {
     "name": "stdout",
     "output_type": "stream",
     "text": [
      "Defaulting to user installation because normal site-packages is not writeable\n",
      "Requirement already satisfied: seaborn in c:\\users\\sampr\\appdata\\roaming\\python\\python313\\site-packages (0.13.2)\n",
      "Requirement already satisfied: numpy!=1.24.0,>=1.20 in c:\\users\\sampr\\appdata\\roaming\\python\\python313\\site-packages (from seaborn) (2.2.5)\n",
      "Requirement already satisfied: pandas>=1.2 in c:\\users\\sampr\\appdata\\roaming\\python\\python313\\site-packages (from seaborn) (2.2.3)\n",
      "Requirement already satisfied: matplotlib!=3.6.1,>=3.4 in c:\\users\\sampr\\appdata\\roaming\\python\\python313\\site-packages (from seaborn) (3.10.1)\n",
      "Requirement already satisfied: contourpy>=1.0.1 in c:\\users\\sampr\\appdata\\roaming\\python\\python313\\site-packages (from matplotlib!=3.6.1,>=3.4->seaborn) (1.3.2)\n",
      "Requirement already satisfied: cycler>=0.10 in c:\\users\\sampr\\appdata\\roaming\\python\\python313\\site-packages (from matplotlib!=3.6.1,>=3.4->seaborn) (0.12.1)\n",
      "Requirement already satisfied: fonttools>=4.22.0 in c:\\users\\sampr\\appdata\\roaming\\python\\python313\\site-packages (from matplotlib!=3.6.1,>=3.4->seaborn) (4.57.0)\n",
      "Requirement already satisfied: kiwisolver>=1.3.1 in c:\\users\\sampr\\appdata\\roaming\\python\\python313\\site-packages (from matplotlib!=3.6.1,>=3.4->seaborn) (1.4.8)\n",
      "Requirement already satisfied: packaging>=20.0 in c:\\users\\sampr\\appdata\\roaming\\python\\python313\\site-packages (from matplotlib!=3.6.1,>=3.4->seaborn) (24.2)\n",
      "Requirement already satisfied: pillow>=8 in c:\\users\\sampr\\appdata\\roaming\\python\\python313\\site-packages (from matplotlib!=3.6.1,>=3.4->seaborn) (11.2.1)\n",
      "Requirement already satisfied: pyparsing>=2.3.1 in c:\\users\\sampr\\appdata\\roaming\\python\\python313\\site-packages (from matplotlib!=3.6.1,>=3.4->seaborn) (3.2.3)\n",
      "Requirement already satisfied: python-dateutil>=2.7 in c:\\users\\sampr\\appdata\\roaming\\python\\python313\\site-packages (from matplotlib!=3.6.1,>=3.4->seaborn) (2.9.0.post0)\n",
      "Requirement already satisfied: pytz>=2020.1 in c:\\users\\sampr\\appdata\\roaming\\python\\python313\\site-packages (from pandas>=1.2->seaborn) (2025.2)\n",
      "Requirement already satisfied: tzdata>=2022.7 in c:\\users\\sampr\\appdata\\roaming\\python\\python313\\site-packages (from pandas>=1.2->seaborn) (2025.2)\n",
      "Requirement already satisfied: six>=1.5 in c:\\users\\sampr\\appdata\\roaming\\python\\python313\\site-packages (from python-dateutil>=2.7->matplotlib!=3.6.1,>=3.4->seaborn) (1.17.0)\n"
     ]
    },
    {
     "name": "stderr",
     "output_type": "stream",
     "text": [
      "\n",
      "[notice] A new release of pip is available: 25.0.1 -> 25.1.1\n",
      "[notice] To update, run: python.exe -m pip install --upgrade pip\n"
     ]
    }
   ],
   "source": [
    "!pip install seaborn\n"
   ]
  },
  {
   "cell_type": "code",
   "execution_count": null,
   "id": "e4d33315",
   "metadata": {},
   "outputs": [
    {
     "data": {
      "image/png": "[encoded data removed]",
      "text/plain": [
       "<Figure size 1000x600 with 1 Axes>"
      ]
     },
     "metadata": {},
     "output_type": "display_data"
    }
   ],
   "source": [
    "import seaborn as sns\n",
    "import matplotlib.pyplot as plt\n",
    "\n",
    "plt.figure(figsize=(10, 6))\n",
    "sns.countplot(data=df, x='mood')\n",
    "plt.title('Distribution of Moods')\n",
    "plt.xticks(rotation=45)\n",
    "plt.show()\n"
   ]
  },
  {
   "cell_type": "markdown",
   "id": "a23407a4",
   "metadata": {},
   "source": [
    "Genre vs Mood:\n",
    "If you want to explore which genres correspond to specific moods, you can plot a heatmap as well a crosstab for genre vs mood :"
   ]
  },
  {
   "cell_type": "code",
   "execution_count": null,
   "id": "4305edba",
   "metadata": {},
   "outputs": [
    {
     "data": {
      "image/png": "[encoded data removed]",
      "text/plain": [
       "<Figure size 1200x800 with 2 Axes>"
      ]
     },
     "metadata": {},
     "output_type": "display_data"
    },
    {
     "name": "stdout",
     "output_type": "stream",
     "text": [
      "mood        Calm  Energetic  Happy  Sad\n",
      "genre                                  \n",
      "Classical    101          0      0   48\n",
      "Electronic    65          1      6   15\n",
      "Hip-Hop        0          0      2    0\n",
      "Jazz           9          0      0   18\n",
      "Other         19         30     59  102\n",
      "Pop            1          4     30    7\n",
      "Rock           0        119     43    7\n"
     ]
    }
   ],
   "source": [
    "genre_mood_pivot = df.pivot_table(index='mood', columns='genre', aggfunc='size', fill_value=0)\n",
    "plt.figure(figsize=(12, 8))\n",
    "sns.heatmap(genre_mood_pivot, cmap='Blues', annot=True)\n",
    "plt.title('Genre vs Mood')\n",
    "plt.show()\n",
    "print(pd.crosstab(df['genre'], df['mood']))\n"
   ]
  },
  {
   "cell_type": "markdown",
   "id": "4ce374cb",
   "metadata": {},
   "source": [
    "Step 5: Genre Classification\n",
    "Now let’s focus on classifying songs into genres. This can be done with machine learning.\n",
    "\n",
    "Prepare your features:\n",
    "Select the relevant features for genre classification, such as danceability, energy, loudness, valence, and others."
   ]
  },
  {
   "cell_type": "code",
   "execution_count": null,
   "id": "71c4f25e",
   "metadata": {},
   "outputs": [],
   "source": [
    "features = df[['danceability', 'energy', 'loudness', 'valence', 'speechiness', 'tempo']]\n",
    "target = df['genre']  # Assuming you have a column named 'genre'\n"
   ]
  },
  {
   "cell_type": "code",
   "execution_count": null,
   "id": "5fb5d6a2",
   "metadata": {},
   "outputs": [
    {
     "name": "stdout",
     "output_type": "stream",
     "text": [
      "Defaulting to user installation because normal site-packages is not writeable\n",
      "Collecting scikit-learn\n",
      "  Downloading scikit_learn-1.6.1-cp313-cp313-win_amd64.whl.metadata (15 kB)\n",
      "Requirement already satisfied: numpy>=1.19.5 in c:\\users\\sampr\\appdata\\roaming\\python\\python313\\site-packages (from scikit-learn) (2.2.5)\n",
      "Collecting scipy>=1.6.0 (from scikit-learn)\n",
      "  Downloading scipy-1.15.2-cp313-cp313-win_amd64.whl.metadata (60 kB)\n",
      "Collecting joblib>=1.2.0 (from scikit-learn)\n",
      "  Downloading joblib-1.4.2-py3-none-any.whl.metadata (5.4 kB)\n",
      "Collecting threadpoolctl>=3.1.0 (from scikit-learn)\n",
      "  Downloading threadpoolctl-3.6.0-py3-none-any.whl.metadata (13 kB)\n",
      "Downloading scikit_learn-1.6.1-cp313-cp313-win_amd64.whl (11.1 MB)\n",
      "   ---------------------------------------- 0.0/11.1 MB ? eta -:--:--\n",
      "   ---------------------------------------- 0.0/11.1 MB ? eta -:--:--\n",
      "   ---------------------------------------- 0.0/11.1 MB ? eta -:--:--\n",
      "    --------------------------------------- 0.3/11.1 MB ? eta -:--:--\n",
      "    --------------------------------------- 0.3/11.1 MB ? eta -:--:--\n",
      "   -- ------------------------------------- 0.8/11.1 MB 1.6 MB/s eta 0:00:07\n",
      "   ---- ----------------------------------- 1.3/11.1 MB 1.6 MB/s eta 0:00:06\n",
      "   ----- ---------------------------------- 1.6/11.1 MB 1.8 MB/s eta 0:00:06\n",
      "   ------ --------------------------------- 1.8/11.1 MB 1.6 MB/s eta 0:00:06\n",
      "   ------- -------------------------------- 2.1/11.1 MB 1.6 MB/s eta 0:00:06\n",
      "   -------- ------------------------------- 2.4/11.1 MB 1.6 MB/s eta 0:00:06\n",
      "   -------- ------------------------------- 2.4/11.1 MB 1.6 MB/s eta 0:00:06\n",
      "   --------- ------------------------------ 2.6/11.1 MB 1.4 MB/s eta 0:00:07\n",
      "   --------- ------------------------------ 2.6/11.1 MB 1.4 MB/s eta 0:00:07\n",
      "   --------- ------------------------------ 2.6/11.1 MB 1.4 MB/s eta 0:00:07\n",
      "   ---------- ----------------------------- 2.9/11.1 MB 1.1 MB/s eta 0:00:08\n",
      "   ---------- ----------------------------- 2.9/11.1 MB 1.1 MB/s eta 0:00:08\n",
      "   ----------- ---------------------------- 3.1/11.1 MB 1.0 MB/s eta 0:00:08\n",
      "   ------------ --------------------------- 3.4/11.1 MB 1.0 MB/s eta 0:00:08\n",
      "   ------------ --------------------------- 3.4/11.1 MB 1.0 MB/s eta 0:00:08\n",
      "   ------------ --------------------------- 3.4/11.1 MB 1.0 MB/s eta 0:00:08\n",
      "   ------------ --------------------------- 3.4/11.1 MB 1.0 MB/s eta 0:00:08\n",
      "   ------------ --------------------------- 3.4/11.1 MB 1.0 MB/s eta 0:00:08\n",
      "   ------------ --------------------------- 3.4/11.1 MB 1.0 MB/s eta 0:00:08\n",
      "   ------------ --------------------------- 3.4/11.1 MB 1.0 MB/s eta 0:00:08\n",
      "   ------------- -------------------------- 3.7/11.1 MB 739.2 kB/s eta 0:00:11\n",
      "   -------------- ------------------------- 3.9/11.1 MB 753.3 kB/s eta 0:00:10\n",
      "   --------------- ------------------------ 4.2/11.1 MB 772.4 kB/s eta 0:00:09\n",
      "   ---------------- ----------------------- 4.5/11.1 MB 799.8 kB/s eta 0:00:09\n",
      "   ----------------- ---------------------- 5.0/11.1 MB 854.8 kB/s eta 0:00:08\n",
      "   ------------------ --------------------- 5.2/11.1 MB 880.9 kB/s eta 0:00:07\n",
      "   -------------------- ------------------- 5.8/11.1 MB 925.3 kB/s eta 0:00:06\n",
      "   ---------------------- ----------------- 6.3/11.1 MB 976.9 kB/s eta 0:00:05\n",
      "   ----------------------- ---------------- 6.6/11.1 MB 993.8 kB/s eta 0:00:05\n",
      "   ----------------------- ---------------- 6.6/11.1 MB 993.8 kB/s eta 0:00:05\n",
      "   ------------------------ --------------- 6.8/11.1 MB 970.2 kB/s eta 0:00:05\n",
      "   -------------------------- ------------- 7.3/11.1 MB 1.0 MB/s eta 0:00:04\n",
      "   --------------------------- ------------ 7.6/11.1 MB 1.0 MB/s eta 0:00:04\n",
      "   ----------------------------- ---------- 8.1/11.1 MB 1.1 MB/s eta 0:00:03\n",
      "   ------------------------------ --------- 8.4/11.1 MB 1.1 MB/s eta 0:00:03\n",
      "   ------------------------------ --------- 8.4/11.1 MB 1.1 MB/s eta 0:00:03\n",
      "   -------------------------------- ------- 8.9/11.1 MB 1.1 MB/s eta 0:00:03\n",
      "   --------------------------------- ------ 9.2/11.1 MB 1.1 MB/s eta 0:00:02\n",
      "   ---------------------------------- ----- 9.4/11.1 MB 1.1 MB/s eta 0:00:02\n",
      "   ----------------------------------- ---- 9.7/11.1 MB 1.1 MB/s eta 0:00:02\n",
      "   ------------------------------------ --- 10.2/11.1 MB 1.1 MB/s eta 0:00:01\n",
      "   ------------------------------------ --- 10.2/11.1 MB 1.1 MB/s eta 0:00:01\n",
      "   ------------------------------------ --- 10.2/11.1 MB 1.1 MB/s eta 0:00:01\n",
      "   ------------------------------------ --- 10.2/11.1 MB 1.1 MB/s eta 0:00:01\n",
      "   ------------------------------------ --- 10.2/11.1 MB 1.1 MB/s eta 0:00:01\n",
      "   ------------------------------------- -- 10.5/11.1 MB 1.0 MB/s eta 0:00:01\n",
      "   -------------------------------------- - 10.7/11.1 MB 1.0 MB/s eta 0:00:01\n",
      "   ---------------------------------------- 11.1/11.1 MB 1.0 MB/s eta 0:00:00\n",
      "Downloading joblib-1.4.2-py3-none-any.whl (301 kB)\n",
      "Downloading scipy-1.15.2-cp313-cp313-win_amd64.whl (41.0 MB)\n",
      "   ---------------------------------------- 0.0/41.0 MB ? eta -:--:--\n",
      "   ---------------------------------------- 0.0/41.0 MB ? eta -:--:--\n",
      "   ---------------------------------------- 0.3/41.0 MB ? eta -:--:--\n",
      "    --------------------------------------- 0.8/41.0 MB 1.5 MB/s eta 0:00:27\n",
      "   - -------------------------------------- 1.3/41.0 MB 1.8 MB/s eta 0:00:23\n",
      "   - -------------------------------------- 1.6/41.0 MB 1.8 MB/s eta 0:00:22\n",
      "   - -------------------------------------- 1.6/41.0 MB 1.8 MB/s eta 0:00:22\n",
      "   - -------------------------------------- 1.8/41.0 MB 1.5 MB/s eta 0:00:27\n",
      "   -- ------------------------------------- 2.1/41.0 MB 1.5 MB/s eta 0:00:27\n",
      "   -- ------------------------------------- 2.6/41.0 MB 1.5 MB/s eta 0:00:27\n",
      "   -- ------------------------------------- 2.9/41.0 MB 1.5 MB/s eta 0:00:26\n",
      "   -- ------------------------------------- 2.9/41.0 MB 1.5 MB/s eta 0:00:26\n",
      "   --- ------------------------------------ 3.1/41.0 MB 1.3 MB/s eta 0:00:30\n",
      "   --- ------------------------------------ 3.1/41.0 MB 1.3 MB/s eta 0:00:30\n",
      "   --- ------------------------------------ 3.4/41.0 MB 1.2 MB/s eta 0:00:31\n",
      "   --- ------------------------------------ 3.9/41.0 MB 1.3 MB/s eta 0:00:30\n",
      "   ---- ----------------------------------- 4.2/41.0 MB 1.3 MB/s eta 0:00:29\n",
      "   ---- ----------------------------------- 4.7/41.0 MB 1.4 MB/s eta 0:00:27\n",
      "   ---- ----------------------------------- 5.0/41.0 MB 1.4 MB/s eta 0:00:27\n",
      "   ---- ----------------------------------- 5.0/41.0 MB 1.4 MB/s eta 0:00:27\n",
      "   ---- ----------------------------------- 5.0/41.0 MB 1.4 MB/s eta 0:00:27\n",
      "   ---- ----------------------------------- 5.0/41.0 MB 1.4 MB/s eta 0:00:27\n",
      "   ----- ---------------------------------- 5.2/41.0 MB 1.2 MB/s eta 0:00:31\n",
      "   ----- ---------------------------------- 5.5/41.0 MB 1.2 MB/s eta 0:00:31\n",
      "   ----- ---------------------------------- 5.8/41.0 MB 1.2 MB/s eta 0:00:30\n",
      "   ----- ---------------------------------- 6.0/41.0 MB 1.2 MB/s eta 0:00:30\n",
      "   ------ --------------------------------- 6.6/41.0 MB 1.2 MB/s eta 0:00:29\n",
      "   ------ --------------------------------- 6.6/41.0 MB 1.2 MB/s eta 0:00:29\n",
      "   ------ --------------------------------- 6.6/41.0 MB 1.2 MB/s eta 0:00:29\n",
      "   ------ --------------------------------- 6.6/41.0 MB 1.2 MB/s eta 0:00:29\n",
      "   ------ --------------------------------- 6.6/41.0 MB 1.2 MB/s eta 0:00:29\n",
      "   ------ --------------------------------- 6.8/41.0 MB 1.1 MB/s eta 0:00:33\n",
      "   ------ --------------------------------- 7.1/41.0 MB 1.1 MB/s eta 0:00:32\n",
      "   ------- -------------------------------- 7.3/41.0 MB 1.1 MB/s eta 0:00:32\n",
      "   ------- -------------------------------- 7.6/41.0 MB 1.1 MB/s eta 0:00:31\n",
      "   ------- -------------------------------- 8.1/41.0 MB 1.1 MB/s eta 0:00:30\n",
      "   -------- ------------------------------- 8.7/41.0 MB 1.1 MB/s eta 0:00:29\n",
      "   -------- ------------------------------- 8.9/41.0 MB 1.2 MB/s eta 0:00:28\n",
      "   -------- ------------------------------- 9.2/41.0 MB 1.2 MB/s eta 0:00:28\n",
      "   --------- ------------------------------ 9.4/41.0 MB 1.2 MB/s eta 0:00:28\n",
      "   --------- ------------------------------ 9.7/41.0 MB 1.2 MB/s eta 0:00:27\n",
      "   --------- ------------------------------ 10.0/41.0 MB 1.2 MB/s eta 0:00:27\n",
      "   ---------- ----------------------------- 10.5/41.0 MB 1.2 MB/s eta 0:00:26\n",
      "   ---------- ----------------------------- 11.0/41.0 MB 1.2 MB/s eta 0:00:25\n",
      "   ----------- ---------------------------- 11.3/41.0 MB 1.2 MB/s eta 0:00:24\n",
      "   ----------- ---------------------------- 11.5/41.0 MB 1.2 MB/s eta 0:00:24\n",
      "   ----------- ---------------------------- 12.1/41.0 MB 1.3 MB/s eta 0:00:23\n",
      "   ------------ --------------------------- 12.3/41.0 MB 1.3 MB/s eta 0:00:23\n",
      "   ------------ --------------------------- 12.6/41.0 MB 1.3 MB/s eta 0:00:23\n",
      "   ------------ --------------------------- 13.1/41.0 MB 1.3 MB/s eta 0:00:22\n",
      "   ------------- -------------------------- 13.4/41.0 MB 1.3 MB/s eta 0:00:22\n",
      "   ------------- -------------------------- 13.4/41.0 MB 1.3 MB/s eta 0:00:22\n",
      "   ------------- -------------------------- 13.4/41.0 MB 1.3 MB/s eta 0:00:22\n",
      "   ------------- -------------------------- 13.4/41.0 MB 1.3 MB/s eta 0:00:22\n",
      "   ------------- -------------------------- 13.4/41.0 MB 1.3 MB/s eta 0:00:22\n",
      "   ------------- -------------------------- 13.4/41.0 MB 1.3 MB/s eta 0:00:22\n",
      "   ------------- -------------------------- 13.6/41.0 MB 1.2 MB/s eta 0:00:24\n",
      "   ------------- -------------------------- 13.6/41.0 MB 1.2 MB/s eta 0:00:24\n",
      "   ------------- -------------------------- 13.6/41.0 MB 1.2 MB/s eta 0:00:24\n",
      "   ------------- -------------------------- 13.6/41.0 MB 1.2 MB/s eta 0:00:24\n",
      "   ------------- -------------------------- 13.6/41.0 MB 1.2 MB/s eta 0:00:24\n",
      "   ------------- -------------------------- 13.6/41.0 MB 1.2 MB/s eta 0:00:24\n",
      "   ------------- -------------------------- 13.6/41.0 MB 1.2 MB/s eta 0:00:24\n",
      "   ------------- -------------------------- 13.9/41.0 MB 1.1 MB/s eta 0:00:26\n",
      "   ------------- -------------------------- 13.9/41.0 MB 1.1 MB/s eta 0:00:26\n",
      "   ------------- -------------------------- 13.9/41.0 MB 1.1 MB/s eta 0:00:26\n",
      "   ------------- -------------------------- 13.9/41.0 MB 1.1 MB/s eta 0:00:26\n",
      "   ------------- -------------------------- 13.9/41.0 MB 1.1 MB/s eta 0:00:26\n",
      "   ------------- -------------------------- 13.9/41.0 MB 1.1 MB/s eta 0:00:26\n",
      "   ------------- -------------------------- 13.9/41.0 MB 1.1 MB/s eta 0:00:26\n",
      "   ------------- -------------------------- 13.9/41.0 MB 1.1 MB/s eta 0:00:26\n",
      "   ------------- -------------------------- 13.9/41.0 MB 1.1 MB/s eta 0:00:26\n",
      "   ------------- -------------------------- 13.9/41.0 MB 1.1 MB/s eta 0:00:26\n",
      "   ------------- -------------------------- 14.2/41.0 MB 921.8 kB/s eta 0:00:30\n",
      "   ------------- -------------------------- 14.2/41.0 MB 921.8 kB/s eta 0:00:30\n",
      "   -------------- ------------------------- 14.4/41.0 MB 921.6 kB/s eta 0:00:29\n",
      "   -------------- ------------------------- 14.9/41.0 MB 935.0 kB/s eta 0:00:28\n",
      "   -------------- ------------------------- 14.9/41.0 MB 935.0 kB/s eta 0:00:28\n",
      "   -------------- ------------------------- 14.9/41.0 MB 935.0 kB/s eta 0:00:28\n",
      "   --------------- ------------------------ 15.5/41.0 MB 929.7 kB/s eta 0:00:28\n",
      "   --------------- ------------------------ 16.0/41.0 MB 950.6 kB/s eta 0:00:27\n",
      "   ---------------- ----------------------- 16.5/41.0 MB 970.4 kB/s eta 0:00:26\n",
      "   ---------------- ----------------------- 17.0/41.0 MB 990.6 kB/s eta 0:00:25\n",
      "   ---------------- ----------------------- 17.3/41.0 MB 1.0 MB/s eta 0:00:24\n",
      "   ----------------- ---------------------- 17.8/41.0 MB 1.0 MB/s eta 0:00:23\n",
      "   ----------------- ---------------------- 18.4/41.0 MB 1.0 MB/s eta 0:00:23\n",
      "   ------------------ --------------------- 18.9/41.0 MB 1.0 MB/s eta 0:00:22\n",
      "   ------------------ --------------------- 19.4/41.0 MB 1.1 MB/s eta 0:00:21\n",
      "   ------------------- -------------------- 19.9/41.0 MB 1.1 MB/s eta 0:00:20\n",
      "   ------------------- -------------------- 20.4/41.0 MB 1.1 MB/s eta 0:00:19\n",
      "   ------------------- -------------------- 20.4/41.0 MB 1.1 MB/s eta 0:00:19\n",
      "   ------------------- -------------------- 20.4/41.0 MB 1.1 MB/s eta 0:00:19\n",
      "   ------------------- -------------------- 20.4/41.0 MB 1.1 MB/s eta 0:00:19\n",
      "   -------------------- ------------------- 20.7/41.0 MB 1.1 MB/s eta 0:00:19\n",
      "   -------------------- ------------------- 20.7/41.0 MB 1.1 MB/s eta 0:00:19\n",
      "   -------------------- ------------------- 20.7/41.0 MB 1.1 MB/s eta 0:00:19\n",
      "   -------------------- ------------------- 21.0/41.0 MB 1.0 MB/s eta 0:00:20\n",
      "   -------------------- ------------------- 21.2/41.0 MB 1.0 MB/s eta 0:00:19\n",
      "   -------------------- ------------------- 21.5/41.0 MB 1.0 MB/s eta 0:00:19\n",
      "   --------------------- ------------------ 21.8/41.0 MB 1.0 MB/s eta 0:00:19\n",
      "   --------------------- ------------------ 22.0/41.0 MB 1.0 MB/s eta 0:00:19\n",
      "   ---------------------- ----------------- 22.5/41.0 MB 1.1 MB/s eta 0:00:18\n",
      "   ---------------------- ----------------- 22.8/41.0 MB 1.1 MB/s eta 0:00:18\n",
      "   ---------------------- ----------------- 23.1/41.0 MB 1.1 MB/s eta 0:00:17\n",
      "   ---------------------- ----------------- 23.3/41.0 MB 1.1 MB/s eta 0:00:17\n",
      "   ---------------------- ----------------- 23.3/41.0 MB 1.1 MB/s eta 0:00:17\n",
      "   ----------------------- ---------------- 23.6/41.0 MB 1.1 MB/s eta 0:00:17\n",
      "   ----------------------- ---------------- 23.6/41.0 MB 1.1 MB/s eta 0:00:17\n",
      "   ----------------------- ---------------- 23.6/41.0 MB 1.1 MB/s eta 0:00:17\n",
      "   ----------------------- ---------------- 23.6/41.0 MB 1.1 MB/s eta 0:00:17\n",
      "   ----------------------- ---------------- 23.6/41.0 MB 1.1 MB/s eta 0:00:17\n",
      "   ----------------------- ---------------- 23.9/41.0 MB 1.0 MB/s eta 0:00:17\n",
      "   ----------------------- ---------------- 24.1/41.0 MB 1.0 MB/s eta 0:00:17\n",
      "   ----------------------- ---------------- 24.4/41.0 MB 1.0 MB/s eta 0:00:17\n",
      "   ------------------------ --------------- 24.9/41.0 MB 1.0 MB/s eta 0:00:16\n",
      "   ------------------------ --------------- 24.9/41.0 MB 1.0 MB/s eta 0:00:16\n",
      "   ------------------------ --------------- 25.2/41.0 MB 1.0 MB/s eta 0:00:16\n",
      "   ------------------------ --------------- 25.2/41.0 MB 1.0 MB/s eta 0:00:16\n",
      "   ------------------------ --------------- 25.4/41.0 MB 1.0 MB/s eta 0:00:16\n",
      "   ------------------------ --------------- 25.4/41.0 MB 1.0 MB/s eta 0:00:16\n",
      "   ------------------------- -------------- 25.7/41.0 MB 1.0 MB/s eta 0:00:15\n",
      "   ------------------------- -------------- 26.2/41.0 MB 1.0 MB/s eta 0:00:15\n",
      "   ------------------------- -------------- 26.5/41.0 MB 1.0 MB/s eta 0:00:14\n",
      "   -------------------------- ------------- 26.7/41.0 MB 1.0 MB/s eta 0:00:14\n",
      "   -------------------------- ------------- 27.3/41.0 MB 1.0 MB/s eta 0:00:14\n",
      "   -------------------------- ------------- 27.3/41.0 MB 1.0 MB/s eta 0:00:14\n",
      "   --------------------------- ------------ 27.8/41.0 MB 1.1 MB/s eta 0:00:13\n",
      "   --------------------------- ------------ 27.8/41.0 MB 1.1 MB/s eta 0:00:13\n",
      "   --------------------------- ------------ 28.0/41.0 MB 1.0 MB/s eta 0:00:13\n",
      "   --------------------------- ------------ 28.6/41.0 MB 1.1 MB/s eta 0:00:12\n",
      "   --------------------------- ------------ 28.6/41.0 MB 1.1 MB/s eta 0:00:12\n",
      "   ---------------------------- ----------- 28.8/41.0 MB 1.1 MB/s eta 0:00:12\n",
      "   ---------------------------- ----------- 29.1/41.0 MB 1.1 MB/s eta 0:00:12\n",
      "   ---------------------------- ----------- 29.4/41.0 MB 1.1 MB/s eta 0:00:11\n",
      "   ---------------------------- ----------- 29.6/41.0 MB 1.1 MB/s eta 0:00:11\n",
      "   ----------------------------- ---------- 29.9/41.0 MB 1.1 MB/s eta 0:00:11\n",
      "   ----------------------------- ---------- 30.4/41.0 MB 1.1 MB/s eta 0:00:10\n",
      "   ----------------------------- ---------- 30.4/41.0 MB 1.1 MB/s eta 0:00:10\n",
      "   ----------------------------- ---------- 30.7/41.0 MB 1.1 MB/s eta 0:00:10\n",
      "   ------------------------------ --------- 31.2/41.0 MB 1.1 MB/s eta 0:00:10\n",
      "   ------------------------------ --------- 31.5/41.0 MB 1.1 MB/s eta 0:00:09\n",
      "   ------------------------------- -------- 32.0/41.0 MB 1.1 MB/s eta 0:00:09\n",
      "   ------------------------------- -------- 32.2/41.0 MB 1.1 MB/s eta 0:00:09\n",
      "   ------------------------------- -------- 32.2/41.0 MB 1.1 MB/s eta 0:00:09\n",
      "   ------------------------------- -------- 32.2/41.0 MB 1.1 MB/s eta 0:00:09\n",
      "   ------------------------------- -------- 32.5/41.0 MB 1.1 MB/s eta 0:00:08\n",
      "   ------------------------------- -------- 32.8/41.0 MB 1.1 MB/s eta 0:00:08\n",
      "   ------------------------------- -------- 32.8/41.0 MB 1.1 MB/s eta 0:00:08\n",
      "   -------------------------------- ------- 33.0/41.0 MB 1.1 MB/s eta 0:00:08\n",
      "   -------------------------------- ------- 33.0/41.0 MB 1.1 MB/s eta 0:00:08\n",
      "   -------------------------------- ------- 33.3/41.0 MB 1.0 MB/s eta 0:00:08\n",
      "   -------------------------------- ------- 33.6/41.0 MB 1.0 MB/s eta 0:00:08\n",
      "   --------------------------------- ------ 33.8/41.0 MB 1.0 MB/s eta 0:00:07\n",
      "   --------------------------------- ------ 34.1/41.0 MB 1.0 MB/s eta 0:00:07\n",
      "   --------------------------------- ------ 34.3/41.0 MB 1.0 MB/s eta 0:00:07\n",
      "   --------------------------------- ------ 34.3/41.0 MB 1.0 MB/s eta 0:00:07\n",
      "   --------------------------------- ------ 34.6/41.0 MB 1.0 MB/s eta 0:00:07\n",
      "   ---------------------------------- ----- 34.9/41.0 MB 1.0 MB/s eta 0:00:06\n",
      "   ---------------------------------- ----- 35.4/41.0 MB 1.0 MB/s eta 0:00:06\n",
      "   ---------------------------------- ----- 35.7/41.0 MB 1.0 MB/s eta 0:00:06\n",
      "   ----------------------------------- ---- 35.9/41.0 MB 1.0 MB/s eta 0:00:05\n",
      "   ----------------------------------- ---- 35.9/41.0 MB 1.0 MB/s eta 0:00:05\n",
      "   ----------------------------------- ---- 35.9/41.0 MB 1.0 MB/s eta 0:00:05\n",
      "   ----------------------------------- ---- 36.2/41.0 MB 1.0 MB/s eta 0:00:05\n",
      "   ----------------------------------- ---- 36.4/41.0 MB 1.0 MB/s eta 0:00:05\n",
      "   ----------------------------------- ---- 36.7/41.0 MB 1.0 MB/s eta 0:00:05\n",
      "   ----------------------------------- ---- 36.7/41.0 MB 1.0 MB/s eta 0:00:05\n",
      "   ------------------------------------ --- 37.0/41.0 MB 1.0 MB/s eta 0:00:04\n",
      "   ------------------------------------ --- 37.0/41.0 MB 1.0 MB/s eta 0:00:04\n",
      "   ------------------------------------ --- 37.0/41.0 MB 1.0 MB/s eta 0:00:04\n",
      "   ------------------------------------ --- 37.0/41.0 MB 1.0 MB/s eta 0:00:04\n",
      "   ------------------------------------ --- 37.2/41.0 MB 1.0 MB/s eta 0:00:04\n",
      "   ------------------------------------ --- 37.5/41.0 MB 1.0 MB/s eta 0:00:04\n",
      "   ------------------------------------ --- 37.5/41.0 MB 1.0 MB/s eta 0:00:04\n",
      "   ------------------------------------- -- 38.0/41.0 MB 1.0 MB/s eta 0:00:03\n",
      "   ------------------------------------- -- 38.3/41.0 MB 1.0 MB/s eta 0:00:03\n",
      "   ------------------------------------- -- 38.8/41.0 MB 1.0 MB/s eta 0:00:03\n",
      "   -------------------------------------- - 39.1/41.0 MB 1.0 MB/s eta 0:00:02\n",
      "   -------------------------------------- - 39.6/41.0 MB 1.0 MB/s eta 0:00:02\n",
      "   -------------------------------------- - 39.8/41.0 MB 1.0 MB/s eta 0:00:02\n",
      "   ---------------------------------------  40.1/41.0 MB 1.0 MB/s eta 0:00:01\n",
      "   ---------------------------------------  40.4/41.0 MB 1.0 MB/s eta 0:00:01\n",
      "   ---------------------------------------  40.4/41.0 MB 1.0 MB/s eta 0:00:01\n",
      "   ---------------------------------------  40.4/41.0 MB 1.0 MB/s eta 0:00:01\n",
      "   ---------------------------------------  40.6/41.0 MB 1.0 MB/s eta 0:00:01\n",
      "   ---------------------------------------  40.6/41.0 MB 1.0 MB/s eta 0:00:01\n",
      "   ---------------------------------------  40.6/41.0 MB 1.0 MB/s eta 0:00:01\n",
      "   ---------------------------------------  40.6/41.0 MB 1.0 MB/s eta 0:00:01\n",
      "   ---------------------------------------  40.9/41.0 MB 962.1 kB/s eta 0:00:01\n",
      "   ---------------------------------------- 41.0/41.0 MB 949.6 kB/s eta 0:00:00\n",
      "Downloading threadpoolctl-3.6.0-py3-none-any.whl (18 kB)\n",
      "Installing collected packages: threadpoolctl, scipy, joblib, scikit-learn\n",
      "Successfully installed joblib-1.4.2 scikit-learn-1.6.1 scipy-1.15.2 threadpoolctl-3.6.0\n",
      "Note: you may need to restart the kernel to use updated packages.\n"
     ]
    },
    {
     "name": "stderr",
     "output_type": "stream",
     "text": [
      "\n",
      "[notice] A new release of pip is available: 25.0.1 -> 25.1.1\n",
      "[notice] To update, run: python.exe -m pip install --upgrade pip\n"
     ]
    }
   ],
   "source": [
    "pip install scikit-learn\n"
   ]
  },
  {
   "cell_type": "code",
   "execution_count": null,
   "id": "712dd414",
   "metadata": {},
   "outputs": [
    {
     "name": "stdout",
     "output_type": "stream",
     "text": [
      "🎵 Data Preview:\n",
      "                                           name      genre\n",
      "0                                         1999        Pop\n",
      "1                                           23       Rock\n",
      "2                                     9 Crimes  Classical\n",
      "3                               99 Luftballons      Other\n",
      "4  A Boy Brushed Red Living In Black And White       Rock\n"
     ]
    }
   ],
   "source": [
    "from sklearn.preprocessing import StandardScaler\n",
    "scaler = StandardScaler()\n",
    "X_scaled = scaler.fit_transform(features)\n",
    "\n",
    "# Check the first few rows\n",
    "print(\"🎵 Data Preview:\\n\", df[['name', 'genre']].head())"
   ]
  },
  {
   "cell_type": "markdown",
   "id": "9a15f69c",
   "metadata": {},
   "source": [
    "visualizing the genre clusters using pca"
   ]
  },
  {
   "cell_type": "code",
   "execution_count": null,
   "id": "40ed862f",
   "metadata": {},
   "outputs": [
    {
     "data": {
      "image/png": "[encoded data removed]",
      "text/plain": [
       "<Figure size 1000x700 with 1 Axes>"
      ]
     },
     "metadata": {},
     "output_type": "display_data"
    }
   ],
   "source": [
    "from sklearn.decomposition import PCA\n",
    "\n",
    "# Reduce data to 2D for visualization\n",
    "pca = PCA(n_components=2)\n",
    "components = pca.fit_transform(X_train)\n",
    "\n",
    "# Create a DataFrame with the 2D components and genre labels\n",
    "df_pca = pd.DataFrame(components, columns=['PCA1', 'PCA2'])\n",
    "df_pca['Genre'] = y_train\n",
    "\n",
    "# Plot the PCA results\n",
    "plt.figure(figsize=(10, 7))\n",
    "sns.scatterplot(data=df_pca, x='PCA1', y='PCA2', hue='Genre', palette='tab10', s=100)\n",
    "plt.title(\"PCA - Genre Clusters\")\n",
    "plt.show()\n"
   ]
  },
  {
   "cell_type": "markdown",
   "id": "2ef2135b",
   "metadata": {},
   "source": [
    "MODELLING"
   ]
  },
  {
   "cell_type": "code",
   "execution_count": null,
   "id": "4b88fde5",
   "metadata": {},
   "outputs": [
    {
     "name": "stdout",
     "output_type": "stream",
     "text": [
      "Training data shape: (548, 6)\n",
      "Testing data shape: (138, 6)\n"
     ]
    }
   ],
   "source": [
    "from sklearn.model_selection import train_test_split\n",
    "\n",
    "# Split the dataset into training and testing sets (80% train, 20% test)\n",
    "X_train, X_test, y_train, y_test = train_test_split(features, target, test_size=0.2, random_state=42)\n",
    "\n",
    "# Check the shape of the train and test sets\n",
    "print(f\"Training data shape: {X_train.shape}\")\n",
    "print(f\"Testing data shape: {X_test.shape}\")\n"
   ]
  },
  {
   "cell_type": "code",
   "execution_count": null,
   "id": "b0c3c33c",
   "metadata": {},
   "outputs": [
    {
     "data": {
      "text/html": [
       "<style>#sk-container-id-1 {\n",
       "  /* Definition of color scheme common for light and dark mode */\n",
       "  --sklearn-color-text: #000;\n",
       "  --sklearn-color-text-muted: #666;\n",
       "  --sklearn-color-line: gray;\n",
       "  /* Definition of color scheme for unfitted estimators */\n",
       "  --sklearn-color-unfitted-level-0: #fff5e6;\n",
       "  --sklearn-color-unfitted-level-1: #f6e4d2;\n",
       "  --sklearn-color-unfitted-level-2: #ffe0b3;\n",
       "  --sklearn-color-unfitted-level-3: chocolate;\n",
       "  /* Definition of color scheme for fitted estimators */\n",
       "  --sklearn-color-fitted-level-0: #f0f8ff;\n",
       "  --sklearn-color-fitted-level-1: #d4ebff;\n",
       "  --sklearn-color-fitted-level-2: #b3dbfd;\n",
       "  --sklearn-color-fitted-level-3: cornflowerblue;\n",
       "\n",
       "  /* Specific color for light theme */\n",
       "  --sklearn-color-text-on-default-background: var(--sg-text-color, var(--theme-code-foreground, var(--jp-content-font-color1, black)));\n",
       "  --sklearn-color-background: var(--sg-background-color, var(--theme-background, var(--jp-layout-color0, white)));\n",
       "  --sklearn-color-border-box: var(--sg-text-color, var(--theme-code-foreground, var(--jp-content-font-color1, black)));\n",
       "  --sklearn-color-icon: #696969;\n",
       "\n",
       "  @media (prefers-color-scheme: dark) {\n",
       "    /* Redefinition of color scheme for dark theme */\n",
       "    --sklearn-color-text-on-default-background: var(--sg-text-color, var(--theme-code-foreground, var(--jp-content-font-color1, white)));\n",
       "    --sklearn-color-background: var(--sg-background-color, var(--theme-background, var(--jp-layout-color0, #111)));\n",
       "    --sklearn-color-border-box: var(--sg-text-color, var(--theme-code-foreground, var(--jp-content-font-color1, white)));\n",
       "    --sklearn-color-icon: #878787;\n",
       "  }\n",
       "}\n",
       "\n",
       "#sk-container-id-1 {\n",
       "  color: var(--sklearn-color-text);\n",
       "}\n",
       "\n",
       "#sk-container-id-1 pre {\n",
       "  padding: 0;\n",
       "}\n",
       "\n",
       "#sk-container-id-1 input.sk-hidden--visually {\n",
       "  border: 0;\n",
       "  clip: rect(1px 1px 1px 1px);\n",
       "  clip: rect(1px, 1px, 1px, 1px);\n",
       "  height: 1px;\n",
       "  margin: -1px;\n",
       "  overflow: hidden;\n",
       "  padding: 0;\n",
       "  position: absolute;\n",
       "  width: 1px;\n",
       "}\n",
       "\n",
       "#sk-container-id-1 div.sk-dashed-wrapped {\n",
       "  border: 1px dashed var(--sklearn-color-line);\n",
       "  margin: 0 0.4em 0.5em 0.4em;\n",
       "  box-sizing: border-box;\n",
       "  padding-bottom: 0.4em;\n",
       "  background-color: var(--sklearn-color-background);\n",
       "}\n",
       "\n",
       "#sk-container-id-1 div.sk-container {\n",
       "  /* jupyter's `normalize.less` sets `[hidden] { display: none; }`\n",
       "     but bootstrap.min.css set `[hidden] { display: none !important; }`\n",
       "     so we also need the `!important` here to be able to override the\n",
       "     default hidden behavior on the sphinx rendered scikit-learn.org.\n",
       "     See: https://github.com/scikit-learn/scikit-learn/issues/21755 */\n",
       "  display: inline-block !important;\n",
       "  position: relative;\n",
       "}\n",
       "\n",
       "#sk-container-id-1 div.sk-text-repr-fallback {\n",
       "  display: none;\n",
       "}\n",
       "\n",
       "div.sk-parallel-item,\n",
       "div.sk-serial,\n",
       "div.sk-item {\n",
       "  /* draw centered vertical line to link estimators */\n",
       "  background-image: linear-gradient(var(--sklearn-color-text-on-default-background), var(--sklearn-color-text-on-default-background));\n",
       "  background-size: 2px 100%;\n",
       "  background-repeat: no-repeat;\n",
       "  background-position: center center;\n",
       "}\n",
       "\n",
       "/* Parallel-specific style estimator block */\n",
       "\n",
       "#sk-container-id-1 div.sk-parallel-item::after {\n",
       "  content: \"\";\n",
       "  width: 100%;\n",
       "  border-bottom: 2px solid var(--sklearn-color-text-on-default-background);\n",
       "  flex-grow: 1;\n",
       "}\n",
       "\n",
       "#sk-container-id-1 div.sk-parallel {\n",
       "  display: flex;\n",
       "  align-items: stretch;\n",
       "  justify-content: center;\n",
       "  background-color: var(--sklearn-color-background);\n",
       "  position: relative;\n",
       "}\n",
       "\n",
       "#sk-container-id-1 div.sk-parallel-item {\n",
       "  display: flex;\n",
       "  flex-direction: column;\n",
       "}\n",
       "\n",
       "#sk-container-id-1 div.sk-parallel-item:first-child::after {\n",
       "  align-self: flex-end;\n",
       "  width: 50%;\n",
       "}\n",
       "\n",
       "#sk-container-id-1 div.sk-parallel-item:last-child::after {\n",
       "  align-self: flex-start;\n",
       "  width: 50%;\n",
       "}\n",
       "\n",
       "#sk-container-id-1 div.sk-parallel-item:only-child::after {\n",
       "  width: 0;\n",
       "}\n",
       "\n",
       "/* Serial-specific style estimator block */\n",
       "\n",
       "#sk-container-id-1 div.sk-serial {\n",
       "  display: flex;\n",
       "  flex-direction: column;\n",
       "  align-items: center;\n",
       "  background-color: var(--sklearn-color-background);\n",
       "  padding-right: 1em;\n",
       "  padding-left: 1em;\n",
       "}\n",
       "\n",
       "\n",
       "/* Toggleable style: style used for estimator/Pipeline/ColumnTransformer box that is\n",
       "clickable and can be expanded/collapsed.\n",
       "- Pipeline and ColumnTransformer use this feature and define the default style\n",
       "- Estimators will overwrite some part of the style using the `sk-estimator` class\n",
       "*/\n",
       "\n",
       "/* Pipeline and ColumnTransformer style (default) */\n",
       "\n",
       "#sk-container-id-1 div.sk-toggleable {\n",
       "  /* Default theme specific background. It is overwritten whether we have a\n",
       "  specific estimator or a Pipeline/ColumnTransformer */\n",
       "  background-color: var(--sklearn-color-background);\n",
       "}\n",
       "\n",
       "/* Toggleable label */\n",
       "#sk-container-id-1 label.sk-toggleable__label {\n",
       "  cursor: pointer;\n",
       "  display: flex;\n",
       "  width: 100%;\n",
       "  margin-bottom: 0;\n",
       "  padding: 0.5em;\n",
       "  box-sizing: border-box;\n",
       "  text-align: center;\n",
       "  align-items: start;\n",
       "  justify-content: space-between;\n",
       "  gap: 0.5em;\n",
       "}\n",
       "\n",
       "#sk-container-id-1 label.sk-toggleable__label .caption {\n",
       "  font-size: 0.6rem;\n",
       "  font-weight: lighter;\n",
       "  color: var(--sklearn-color-text-muted);\n",
       "}\n",
       "\n",
       "#sk-container-id-1 label.sk-toggleable__label-arrow:before {\n",
       "  /* Arrow on the left of the label */\n",
       "  content: \"▸\";\n",
       "  float: left;\n",
       "  margin-right: 0.25em;\n",
       "  color: var(--sklearn-color-icon);\n",
       "}\n",
       "\n",
       "#sk-container-id-1 label.sk-toggleable__label-arrow:hover:before {\n",
       "  color: var(--sklearn-color-text);\n",
       "}\n",
       "\n",
       "/* Toggleable content - dropdown */\n",
       "\n",
       "#sk-container-id-1 div.sk-toggleable__content {\n",
       "  max-height: 0;\n",
       "  max-width: 0;\n",
       "  overflow: hidden;\n",
       "  text-align: left;\n",
       "  /* unfitted */\n",
       "  background-color: var(--sklearn-color-unfitted-level-0);\n",
       "}\n",
       "\n",
       "#sk-container-id-1 div.sk-toggleable__content.fitted {\n",
       "  /* fitted */\n",
       "  background-color: var(--sklearn-color-fitted-level-0);\n",
       "}\n",
       "\n",
       "#sk-container-id-1 div.sk-toggleable__content pre {\n",
       "  margin: 0.2em;\n",
       "  border-radius: 0.25em;\n",
       "  color: var(--sklearn-color-text);\n",
       "  /* unfitted */\n",
       "  background-color: var(--sklearn-color-unfitted-level-0);\n",
       "}\n",
       "\n",
       "#sk-container-id-1 div.sk-toggleable__content.fitted pre {\n",
       "  /* unfitted */\n",
       "  background-color: var(--sklearn-color-fitted-level-0);\n",
       "}\n",
       "\n",
       "#sk-container-id-1 input.sk-toggleable__control:checked~div.sk-toggleable__content {\n",
       "  /* Expand drop-down */\n",
       "  max-height: 200px;\n",
       "  max-width: 100%;\n",
       "  overflow: auto;\n",
       "}\n",
       "\n",
       "#sk-container-id-1 input.sk-toggleable__control:checked~label.sk-toggleable__label-arrow:before {\n",
       "  content: \"▾\";\n",
       "}\n",
       "\n",
       "/* Pipeline/ColumnTransformer-specific style */\n",
       "\n",
       "#sk-container-id-1 div.sk-label input.sk-toggleable__control:checked~label.sk-toggleable__label {\n",
       "  color: var(--sklearn-color-text);\n",
       "  background-color: var(--sklearn-color-unfitted-level-2);\n",
       "}\n",
       "\n",
       "#sk-container-id-1 div.sk-label.fitted input.sk-toggleable__control:checked~label.sk-toggleable__label {\n",
       "  background-color: var(--sklearn-color-fitted-level-2);\n",
       "}\n",
       "\n",
       "/* Estimator-specific style */\n",
       "\n",
       "/* Colorize estimator box */\n",
       "#sk-container-id-1 div.sk-estimator input.sk-toggleable__control:checked~label.sk-toggleable__label {\n",
       "  /* unfitted */\n",
       "  background-color: var(--sklearn-color-unfitted-level-2);\n",
       "}\n",
       "\n",
       "#sk-container-id-1 div.sk-estimator.fitted input.sk-toggleable__control:checked~label.sk-toggleable__label {\n",
       "  /* fitted */\n",
       "  background-color: var(--sklearn-color-fitted-level-2);\n",
       "}\n",
       "\n",
       "#sk-container-id-1 div.sk-label label.sk-toggleable__label,\n",
       "#sk-container-id-1 div.sk-label label {\n",
       "  /* The background is the default theme color */\n",
       "  color: var(--sklearn-color-text-on-default-background);\n",
       "}\n",
       "\n",
       "/* On hover, darken the color of the background */\n",
       "#sk-container-id-1 div.sk-label:hover label.sk-toggleable__label {\n",
       "  color: var(--sklearn-color-text);\n",
       "  background-color: var(--sklearn-color-unfitted-level-2);\n",
       "}\n",
       "\n",
       "/* Label box, darken color on hover, fitted */\n",
       "#sk-container-id-1 div.sk-label.fitted:hover label.sk-toggleable__label.fitted {\n",
       "  color: var(--sklearn-color-text);\n",
       "  background-color: var(--sklearn-color-fitted-level-2);\n",
       "}\n",
       "\n",
       "/* Estimator label */\n",
       "\n",
       "#sk-container-id-1 div.sk-label label {\n",
       "  font-family: monospace;\n",
       "  font-weight: bold;\n",
       "  display: inline-block;\n",
       "  line-height: 1.2em;\n",
       "}\n",
       "\n",
       "#sk-container-id-1 div.sk-label-container {\n",
       "  text-align: center;\n",
       "}\n",
       "\n",
       "/* Estimator-specific */\n",
       "#sk-container-id-1 div.sk-estimator {\n",
       "  font-family: monospace;\n",
       "  border: 1px dotted var(--sklearn-color-border-box);\n",
       "  border-radius: 0.25em;\n",
       "  box-sizing: border-box;\n",
       "  margin-bottom: 0.5em;\n",
       "  /* unfitted */\n",
       "  background-color: var(--sklearn-color-unfitted-level-0);\n",
       "}\n",
       "\n",
       "#sk-container-id-1 div.sk-estimator.fitted {\n",
       "  /* fitted */\n",
       "  background-color: var(--sklearn-color-fitted-level-0);\n",
       "}\n",
       "\n",
       "/* on hover */\n",
       "#sk-container-id-1 div.sk-estimator:hover {\n",
       "  /* unfitted */\n",
       "  background-color: var(--sklearn-color-unfitted-level-2);\n",
       "}\n",
       "\n",
       "#sk-container-id-1 div.sk-estimator.fitted:hover {\n",
       "  /* fitted */\n",
       "  background-color: var(--sklearn-color-fitted-level-2);\n",
       "}\n",
       "\n",
       "/* Specification for estimator info (e.g. \"i\" and \"?\") */\n",
       "\n",
       "/* Common style for \"i\" and \"?\" */\n",
       "\n",
       ".sk-estimator-doc-link,\n",
       "a:link.sk-estimator-doc-link,\n",
       "a:visited.sk-estimator-doc-link {\n",
       "  float: right;\n",
       "  font-size: smaller;\n",
       "  line-height: 1em;\n",
       "  font-family: monospace;\n",
       "  background-color: var(--sklearn-color-background);\n",
       "  border-radius: 1em;\n",
       "  height: 1em;\n",
       "  width: 1em;\n",
       "  text-decoration: none !important;\n",
       "  margin-left: 0.5em;\n",
       "  text-align: center;\n",
       "  /* unfitted */\n",
       "  border: var(--sklearn-color-unfitted-level-1) 1pt solid;\n",
       "  color: var(--sklearn-color-unfitted-level-1);\n",
       "}\n",
       "\n",
       ".sk-estimator-doc-link.fitted,\n",
       "a:link.sk-estimator-doc-link.fitted,\n",
       "a:visited.sk-estimator-doc-link.fitted {\n",
       "  /* fitted */\n",
       "  border: var(--sklearn-color-fitted-level-1) 1pt solid;\n",
       "  color: var(--sklearn-color-fitted-level-1);\n",
       "}\n",
       "\n",
       "/* On hover */\n",
       "div.sk-estimator:hover .sk-estimator-doc-link:hover,\n",
       ".sk-estimator-doc-link:hover,\n",
       "div.sk-label-container:hover .sk-estimator-doc-link:hover,\n",
       ".sk-estimator-doc-link:hover {\n",
       "  /* unfitted */\n",
       "  background-color: var(--sklearn-color-unfitted-level-3);\n",
       "  color: var(--sklearn-color-background);\n",
       "  text-decoration: none;\n",
       "}\n",
       "\n",
       "div.sk-estimator.fitted:hover .sk-estimator-doc-link.fitted:hover,\n",
       ".sk-estimator-doc-link.fitted:hover,\n",
       "div.sk-label-container:hover .sk-estimator-doc-link.fitted:hover,\n",
       ".sk-estimator-doc-link.fitted:hover {\n",
       "  /* fitted */\n",
       "  background-color: var(--sklearn-color-fitted-level-3);\n",
       "  color: var(--sklearn-color-background);\n",
       "  text-decoration: none;\n",
       "}\n",
       "\n",
       "/* Span, style for the box shown on hovering the info icon */\n",
       ".sk-estimator-doc-link span {\n",
       "  display: none;\n",
       "  z-index: 9999;\n",
       "  position: relative;\n",
       "  font-weight: normal;\n",
       "  right: .2ex;\n",
       "  padding: .5ex;\n",
       "  margin: .5ex;\n",
       "  width: min-content;\n",
       "  min-width: 20ex;\n",
       "  max-width: 50ex;\n",
       "  color: var(--sklearn-color-text);\n",
       "  box-shadow: 2pt 2pt 4pt #999;\n",
       "  /* unfitted */\n",
       "  background: var(--sklearn-color-unfitted-level-0);\n",
       "  border: .5pt solid var(--sklearn-color-unfitted-level-3);\n",
       "}\n",
       "\n",
       ".sk-estimator-doc-link.fitted span {\n",
       "  /* fitted */\n",
       "  background: var(--sklearn-color-fitted-level-0);\n",
       "  border: var(--sklearn-color-fitted-level-3);\n",
       "}\n",
       "\n",
       ".sk-estimator-doc-link:hover span {\n",
       "  display: block;\n",
       "}\n",
       "\n",
       "/* \"?\"-specific style due to the `<a>` HTML tag */\n",
       "\n",
       "#sk-container-id-1 a.estimator_doc_link {\n",
       "  float: right;\n",
       "  font-size: 1rem;\n",
       "  line-height: 1em;\n",
       "  font-family: monospace;\n",
       "  background-color: var(--sklearn-color-background);\n",
       "  border-radius: 1rem;\n",
       "  height: 1rem;\n",
       "  width: 1rem;\n",
       "  text-decoration: none;\n",
       "  /* unfitted */\n",
       "  color: var(--sklearn-color-unfitted-level-1);\n",
       "  border: var(--sklearn-color-unfitted-level-1) 1pt solid;\n",
       "}\n",
       "\n",
       "#sk-container-id-1 a.estimator_doc_link.fitted {\n",
       "  /* fitted */\n",
       "  border: var(--sklearn-color-fitted-level-1) 1pt solid;\n",
       "  color: var(--sklearn-color-fitted-level-1);\n",
       "}\n",
       "\n",
       "/* On hover */\n",
       "#sk-container-id-1 a.estimator_doc_link:hover {\n",
       "  /* unfitted */\n",
       "  background-color: var(--sklearn-color-unfitted-level-3);\n",
       "  color: var(--sklearn-color-background);\n",
       "  text-decoration: none;\n",
       "}\n",
       "\n",
       "#sk-container-id-1 a.estimator_doc_link.fitted:hover {\n",
       "  /* fitted */\n",
       "  background-color: var(--sklearn-color-fitted-level-3);\n",
       "}\n",
       "</style><div id=\"sk-container-id-1\" class=\"sk-top-container\"><div class=\"sk-text-repr-fallback\"><pre>RandomForestClassifier(random_state=42)</pre><b>In a Jupyter environment, please rerun this cell to show the HTML representation or trust the notebook. <br />On GitHub, the HTML representation is unable to render, please try loading this page with nbviewer.org.</b></div><div class=\"sk-container\" hidden><div class=\"sk-item\"><div class=\"sk-estimator fitted sk-toggleable\"><input class=\"sk-toggleable__control sk-hidden--visually\" id=\"sk-estimator-id-1\" type=\"checkbox\" checked><label for=\"sk-estimator-id-1\" class=\"sk-toggleable__label fitted sk-toggleable__label-arrow\"><div><div>RandomForestClassifier</div></div><div><a class=\"sk-estimator-doc-link fitted\" rel=\"noreferrer\" target=\"_blank\" href=\"https://scikit-learn.org/1.6/modules/generated/sklearn.ensemble.RandomForestClassifier.html\">?<span>Documentation for RandomForestClassifier</span></a><span class=\"sk-estimator-doc-link fitted\">i<span>Fitted</span></span></div></label><div class=\"sk-toggleable__content fitted\"><pre>RandomForestClassifier(random_state=42)</pre></div> </div></div></div></div>"
      ],
      "text/plain": [
       "RandomForestClassifier(random_state=42)"
      ]
     },
     "execution_count": 51,
     "metadata": {},
     "output_type": "execute_result"
    }
   ],
   "source": [
    "from sklearn.ensemble import RandomForestClassifier\n",
    "\n",
    "# Initialize the Random Forest model\n",
    "clf = RandomForestClassifier(n_estimators=100, random_state=42)\n",
    "\n",
    "# Train the model with the training data\n",
    "clf.fit(X_train, y_train)\n"
   ]
  },
  {
   "cell_type": "code",
   "execution_count": null,
   "id": "cdd9cd13",
   "metadata": {},
   "outputs": [
    {
     "name": "stdout",
     "output_type": "stream",
     "text": [
      "\n",
      "Sample Predictions vs Actual Values:\n",
      "    Actual Genre Predicted Genre\n",
      "286   Electronic      Electronic\n",
      "652         Rock            Rock\n",
      "257         Rock            Rock\n",
      "336         Rock            Rock\n",
      "318         Rock            Rock\n"
     ]
    }
   ],
   "source": [
    "# Make predictions on the test set\n",
    "y_pred = clf.predict(X_test)\n",
    "\n",
    "# Print the predictions and actual values\n",
    "print(\"\\nSample Predictions vs Actual Values:\")\n",
    "print(pd.DataFrame({'Actual Genre': y_test, 'Predicted Genre': y_pred}).head())\n"
   ]
  },
  {
   "cell_type": "markdown",
   "id": "738aeb9b",
   "metadata": {},
   "source": [
    "evaluation of model"
   ]
  },
  {
   "cell_type": "code",
   "execution_count": null,
   "id": "65732aaa",
   "metadata": {},
   "outputs": [
    {
     "name": "stdout",
     "output_type": "stream",
     "text": [
      "\n",
      "Classification Report:\n",
      "               precision    recall  f1-score   support\n",
      "\n",
      "   Classical       0.83      0.92      0.87        26\n",
      "  Electronic       0.78      0.74      0.76        19\n",
      "     Hip-Hop       0.00      0.00      0.00         1\n",
      "        Jazz       1.00      0.17      0.29         6\n",
      "       Other       0.76      0.82      0.79        45\n",
      "         Pop       1.00      0.80      0.89         5\n",
      "        Rock       0.97      1.00      0.99        36\n",
      "\n",
      "    accuracy                           0.84       138\n",
      "   macro avg       0.76      0.64      0.65       138\n",
      "weighted avg       0.84      0.84      0.83       138\n",
      "\n"
     ]
    },
    {
     "name": "stderr",
     "output_type": "stream",
     "text": [
      "C:\\Users\\sampr\\AppData\\Roaming\\Python\\Python313\\site-packages\\sklearn\\metrics\\_classification.py:1565: UndefinedMetricWarning: Precision is ill-defined and being set to 0.0 in labels with no predicted samples. Use `zero_division` parameter to control this behavior.\n",
      "  _warn_prf(average, modifier, f\"{metric.capitalize()} is\", len(result))\n",
      "C:\\Users\\sampr\\AppData\\Roaming\\Python\\Python313\\site-packages\\sklearn\\metrics\\_classification.py:1565: UndefinedMetricWarning: Precision is ill-defined and being set to 0.0 in labels with no predicted samples. Use `zero_division` parameter to control this behavior.\n",
      "  _warn_prf(average, modifier, f\"{metric.capitalize()} is\", len(result))\n",
      "C:\\Users\\sampr\\AppData\\Roaming\\Python\\Python313\\site-packages\\sklearn\\metrics\\_classification.py:1565: UndefinedMetricWarning: Precision is ill-defined and being set to 0.0 in labels with no predicted samples. Use `zero_division` parameter to control this behavior.\n",
      "  _warn_prf(average, modifier, f\"{metric.capitalize()} is\", len(result))\n"
     ]
    },
    {
     "data": {
      "image/png": "[encoded data removed]",
      "text/plain": [
       "<Figure size 1000x700 with 2 Axes>"
      ]
     },
     "metadata": {},
     "output_type": "display_data"
    }
   ],
   "source": [
    "from sklearn.metrics import classification_report, confusion_matrix\n",
    "import seaborn as sns\n",
    "import matplotlib.pyplot as plt\n",
    "\n",
    "# Classification report\n",
    "print(\"\\nClassification Report:\\n\", classification_report(y_test, y_pred))\n",
    "\n",
    "# Confusion matrix\n",
    "conf_matrix = confusion_matrix(y_test, y_pred)\n",
    "plt.figure(figsize=(10, 7))\n",
    "sns.heatmap(conf_matrix, annot=True, fmt='d', cmap='Blues', xticklabels=df['genre'].unique(), yticklabels=df['genre'].unique())\n",
    "plt.title(\"Confusion Matrix for Genre Classification\")\n",
    "plt.xlabel(\"Predicted Genre\")\n",
    "plt.ylabel(\"Actual Genre\")\n",
    "plt.show()\n"
   ]
  },
  {
   "cell_type": "markdown",
   "id": "15adaff0",
   "metadata": {},
   "source": [
    "to analyze and understand which features contribute to the genre classification we can do:"
   ]
  },
  {
   "cell_type": "code",
   "execution_count": null,
   "id": "466c7d66",
   "metadata": {},
   "outputs": [
    {
     "data": {
      "image/png": "[encoded data removed]",
      "text/plain": [
       "<Figure size 1000x600 with 1 Axes>"
      ]
     },
     "metadata": {},
     "output_type": "display_data"
    }
   ],
   "source": [
    "# Feature importance from Random Forest\n",
    "feature_importance = clf.feature_importances_\n",
    "\n",
    "# Create a DataFrame to visualize feature importance\n",
    "importance_df = pd.DataFrame({'Feature': features.columns, 'Importance': feature_importance})\n",
    "importance_df = importance_df.sort_values(by='Importance', ascending=False)\n",
    "\n",
    "# Plot feature importance\n",
    "plt.figure(figsize=(10, 6))\n",
    "sns.barplot(x='Importance', y='Feature', data=importance_df)\n",
    "plt.title(\"Feature Importance for Genre Classification\")\n",
    "plt.show()\n"
   ]
  },
  {
   "cell_type": "markdown",
   "id": "980e4430",
   "metadata": {},
   "source": [
    "PLAYLIST creation: based on genre and mood"
   ]
  },
  {
   "cell_type": "markdown",
   "id": "229f28dd",
   "metadata": {},
   "source": [
    "genre based:"
   ]
  },
  {
   "cell_type": "code",
   "execution_count": null,
   "id": "5e16cadb",
   "metadata": {},
   "outputs": [
    {
     "name": "stdout",
     "output_type": "stream",
     "text": [
      "Pop Playlist (First 10 songs):\n",
      "                                                  name  \\\n",
      "0                                                 1999   \n",
      "25   All or Nothing (feat. Axel EhnstrÃ¶m) - Deluxe...   \n",
      "58                                     Better Together   \n",
      "83                                           Butterfly   \n",
      "99                                         Cold Nights   \n",
      "109                 Count On You - ATFC's C-thru Remix   \n",
      "114                                              Crazy   \n",
      "124                                Dance Little Sister   \n",
      "149                                 Down On The Corner   \n",
      "153                                      Driver's Seat   \n",
      "\n",
      "                                                 album  \\\n",
      "0                                                 1999   \n",
      "25                               Less is More (Deluxe)   \n",
      "58                                   In Between Dreams   \n",
      "83                                    The Gift Of Game   \n",
      "99                                         Cold Nights   \n",
      "109                 Count On You (ATFC's C-thru Remix)   \n",
      "114                                      St. Elsewhere   \n",
      "124  Introducing The Hardline According To Terence ...   \n",
      "149  Willy And The Poor Boys (40th Anniversary Edit...   \n",
      "153                 Fickle Heart (Plus Two Bonus Cuts)   \n",
      "\n",
      "                           artist  \n",
      "0                          Prince  \n",
      "25               Lost Frequencies  \n",
      "58                   Jack Johnson  \n",
      "83                     Crazy Town  \n",
      "99                   Camo Columbo  \n",
      "109                  Autoerotique  \n",
      "114                Gnarls Barkley  \n",
      "124          Terence Trent D'Arby  \n",
      "149  Creedence Clearwater Revival  \n",
      "153           Sniff 'n' The Tears  \n"
     ]
    }
   ],
   "source": [
    "# Function to create a genre-based playlist\n",
    "def create_genre_playlist(genre):\n",
    "    return df[df['genre'] == genre]\n",
    "\n",
    "# Create a Pop playlist (Example)\n",
    "pop_playlist = create_genre_playlist('Pop')\n",
    "\n",
    "# Print the first 10 songs: name, album, artist\n",
    "print(\"Pop Playlist (First 10 songs):\")\n",
    "print(pop_playlist[['name', 'album', 'artist']].head(10))\n"
   ]
  },
  {
   "cell_type": "markdown",
   "id": "212e9d70",
   "metadata": {},
   "source": [
    "mood based:"
   ]
  },
  {
   "cell_type": "code",
   "execution_count": null,
   "id": "1801a6ed",
   "metadata": {},
   "outputs": [
    {
     "name": "stdout",
     "output_type": "stream",
     "text": [
      "Happy Playlist (First 10 songs):\n",
      "                                                 name  \\\n",
      "0                                                1999   \n",
      "3                                      99 Luftballons   \n",
      "7   A Little Less Conversation - JXL Radio Edit Remix   \n",
      "14                                             Africa   \n",
      "25  All or Nothing (feat. Axel EhnstrÃ¶m) - Deluxe...   \n",
      "33                                             Anthem   \n",
      "35                           Are You Gonna Be My Girl   \n",
      "52                                     Beautiful Life   \n",
      "56              Bennie And The Jets - Remastered 2014   \n",
      "58                                    Better Together   \n",
      "\n",
      "                                                album            artist  \n",
      "0                                                1999            Prince  \n",
      "3                                      99 Luftballons              Nena  \n",
      "7                     Elvis 75 - Good Rockin' Tonight     Elvis Presley  \n",
      "14                                            Toto IV              TOTO  \n",
      "25                              Less is More (Deluxe)  Lost Frequencies  \n",
      "33                                             Anthem               EDX  \n",
      "35                                           Get Born               Jet  \n",
      "52                                     Beautiful Life  Lost Frequencies  \n",
      "56  Goodbye Yellow Brick Road (40th Anniversary Ce...        Elton John  \n",
      "58                                  In Between Dreams      Jack Johnson  \n"
     ]
    }
   ],
   "source": [
    "# Function to create a mood-based playlist\n",
    "def create_mood_playlist(mood):\n",
    "    return df[df['mood'] == mood]\n",
    "\n",
    "# Create a Happy playlist (Example)\n",
    "happy_playlist = create_mood_playlist('Happy')\n",
    "\n",
    "# Print the first 10 songs: name, album, artist\n",
    "print(\"Happy Playlist (First 10 songs):\")\n",
    "print(happy_playlist[['name', 'album', 'artist']].head(10))\n"
   ]
  },
  {
   "cell_type": "markdown",
   "id": "00aa2981",
   "metadata": {},
   "source": [
    "Moodify Audio Feature Insight\n",
    "Goal: Provide deeper insights into the features of a song (like tempo, energy, etc.) to make the project more informative.\n",
    "\n",
    "How to do it:\n",
    "\n",
    "Allow users to click on a song to view a detailed breakdown of the audio features.\n",
    "\n",
    "Display graphs for tempo, energy, acousticness, etc., of each song in the playlist"
   ]
  },
  {
   "cell_type": "markdown",
   "id": "6d8c5a8d",
   "metadata": {},
   "source": [
    "to finally change the csv file df to create the new chnages genre adding"
   ]
  },
  {
   "cell_type": "code",
   "execution_count": 28,
   "id": "f43adab8",
   "metadata": {},
   "outputs": [
    {
     "name": "stdout",
     "output_type": "stream",
     "text": [
      "Index(['name', 'album', 'artist', 'id', 'release_date', 'popularity', 'length',\n",
      "       'danceability', 'acousticness', 'energy', 'instrumentalness',\n",
      "       'liveness', 'valence', 'loudness', 'speechiness', 'tempo', 'key',\n",
      "       'time_signature', 'mood', 'genre'],\n",
      "      dtype='object')\n"
     ]
    }
   ],
   "source": [
    "import pandas as pd\n",
    "\n",
    "# Load the dataset\n",
    "df = pd.read_csv(r'C:\\Users\\sampr\\OneDrive\\Documents\\MoodifyProject\\data\\data_moods.csv')\n",
    "\n",
    "# Check if 'genre' column exists\n",
    "print(df.columns)  # This will show you all column names\n",
    "\n"
   ]
  },
  {
   "cell_type": "markdown",
   "id": "ec52e684",
   "metadata": {},
   "source": [
    "extras: use spotify's real time data to analyse any long in real time and classify them into genres and moods. Hoever this makes use of libraries like spotipy which make use of spotify API which has many limitations for users to use, even for public tracks. thats why we have used a dataset which has predefined columns based on the tempo and rhythm of each song which help us categorise them easily."
   ]
  },
  {
   "cell_type": "code",
   "execution_count": null,
   "id": "f51f365f",
   "metadata": {},
   "outputs": [
    {
     "name": "stdout",
     "output_type": "stream",
     "text": [
      "Defaulting to user installation because normal site-packages is not writeable\n",
      "Collecting spotipy\n",
      "  Downloading spotipy-2.25.1-py3-none-any.whl.metadata (5.1 kB)\n",
      "Collecting redis>=3.5.3 (from spotipy)\n",
      "  Downloading redis-6.0.0-py3-none-any.whl.metadata (10 kB)\n",
      "Collecting requests>=2.25.0 (from spotipy)\n",
      "  Downloading requests-2.32.3-py3-none-any.whl.metadata (4.6 kB)\n",
      "Collecting urllib3>=1.26.0 (from spotipy)\n",
      "  Downloading urllib3-2.4.0-py3-none-any.whl.metadata (6.5 kB)\n",
      "Collecting charset-normalizer<4,>=2 (from requests>=2.25.0->spotipy)\n",
      "  Downloading charset_normalizer-3.4.2-cp313-cp313-win_amd64.whl.metadata (36 kB)\n",
      "Collecting idna<4,>=2.5 (from requests>=2.25.0->spotipy)\n",
      "  Downloading idna-3.10-py3-none-any.whl.metadata (10 kB)\n",
      "Collecting certifi>=2017.4.17 (from requests>=2.25.0->spotipy)\n",
      "  Downloading certifi-2025.4.26-py3-none-any.whl.metadata (2.5 kB)\n",
      "Downloading spotipy-2.25.1-py3-none-any.whl (31 kB)\n",
      "Downloading redis-6.0.0-py3-none-any.whl (268 kB)\n",
      "Downloading requests-2.32.3-py3-none-any.whl (64 kB)\n",
      "Downloading urllib3-2.4.0-py3-none-any.whl (128 kB)\n",
      "Downloading certifi-2025.4.26-py3-none-any.whl (159 kB)\n",
      "Downloading charset_normalizer-3.4.2-cp313-cp313-win_amd64.whl (105 kB)\n",
      "Downloading idna-3.10-py3-none-any.whl (70 kB)\n",
      "Installing collected packages: urllib3, redis, idna, charset-normalizer, certifi, requests, spotipy\n",
      "Successfully installed certifi-2025.4.26 charset-normalizer-3.4.2 idna-3.10 redis-6.0.0 requests-2.32.3 spotipy-2.25.1 urllib3-2.4.0\n",
      "Note: you may need to restart the kernel to use updated packages.\n"
     ]
    },
    {
     "name": "stderr",
     "output_type": "stream",
     "text": [
      "\n",
      "[notice] A new release of pip is available: 25.0.1 -> 25.1.1\n",
      "[notice] To update, run: python.exe -m pip install --upgrade pip\n"
     ]
    }
   ],
   "source": [
    "pip install spotipy\n"
   ]
  },
  {
   "cell_type": "code",
   "execution_count": null,
   "id": "a1a1047f",
   "metadata": {},
   "outputs": [],
   "source": [
    "import spotipy\n",
    "from spotipy.oauth2 import SpotifyClientCredentials\n",
    "\n",
    "client_id = \"56361105697d46ea9e53141a17318a92\"\n",
    "client_secret = \"49031fc7415f4aada9fb51244f7a7866\"\n",
    "\n",
    "# Authenticate and set up Spotipy client\n",
    "client_credentials_manager = SpotifyClientCredentials(client_id=client_id, client_secret=client_secret)\n",
    "sp = spotipy.Spotify(client_credentials_manager=client_credentials_manager)\n"
   ]
  },
  {
   "cell_type": "code",
   "execution_count": null,
   "id": "13b06c7a",
   "metadata": {},
   "outputs": [
    {
     "name": "stdout",
     "output_type": "stream",
     "text": [
      "{'tracks': {'href': 'https://api.spotify.com/v1/search?offset=0&limit=1&query=Shape%20of%20You&type=track', 'limit': 1, 'next': 'https://api.spotify.com/v1/search?offset=1&limit=1&query=Shape%20of%20You&type=track', 'offset': 0, 'previous': None, 'total': 1000, 'items': [{'album': {'album_type': 'album', 'artists': [{'external_urls': {'spotify': 'https://open.spotify.com/artist/6eUKZXaKkcviH0Ku9w2n3V'}, 'href': 'https://api.spotify.com/v1/artists/6eUKZXaKkcviH0Ku9w2n3V', 'id': '6eUKZXaKkcviH0Ku9w2n3V', 'name': 'Ed Sheeran', 'type': 'artist', 'uri': 'spotify:artist:6eUKZXaKkcviH0Ku9w2n3V'}], 'available_markets': ['AR', 'AU', 'AT', 'BE', 'BO', 'BR', 'BG', 'CA', 'CL', 'CO', 'CR', 'CY', 'CZ', 'DK', 'DO', 'DE', 'EC', 'EE', 'SV', 'FI', 'FR', 'GR', 'GT', 'HN', 'HK', 'HU', 'IS', 'IE', 'IT', 'LV', 'LT', 'LU', 'MY', 'MT', 'MX', 'NL', 'NZ', 'NI', 'NO', 'PA', 'PY', 'PE', 'PH', 'PL', 'PT', 'SG', 'SK', 'ES', 'SE', 'CH', 'TW', 'TR', 'UY', 'US', 'GB', 'AD', 'LI', 'MC', 'ID', 'JP', 'TH', 'VN', 'RO', 'IL', 'ZA', 'SA', 'AE', 'BH', 'QA', 'OM', 'KW', 'EG', 'MA', 'DZ', 'TN', 'LB', 'JO', 'PS', 'IN', 'BY', 'KZ', 'MD', 'UA', 'AL', 'BA', 'HR', 'ME', 'MK', 'RS', 'SI', 'KR', 'BD', 'PK', 'LK', 'GH', 'KE', 'NG', 'TZ', 'UG', 'AG', 'AM', 'BS', 'BB', 'BZ', 'BT', 'BW', 'BF', 'CV', 'CW', 'DM', 'FJ', 'GM', 'GE', 'GD', 'GW', 'GY', 'HT', 'JM', 'KI', 'LS', 'LR', 'MW', 'MV', 'ML', 'MH', 'FM', 'NA', 'NR', 'NE', 'PW', 'PG', 'WS', 'SM', 'ST', 'SN', 'SC', 'SL', 'SB', 'KN', 'LC', 'VC', 'SR', 'TL', 'TO', 'TT', 'TV', 'VU', 'AZ', 'BN', 'BI', 'KH', 'CM', 'TD', 'KM', 'GQ', 'SZ', 'GA', 'GN', 'KG', 'LA', 'MO', 'MR', 'MN', 'NP', 'RW', 'TG', 'UZ', 'ZW', 'BJ', 'MG', 'MU', 'MZ', 'AO', 'CI', 'DJ', 'ZM', 'CD', 'CG', 'IQ', 'LY', 'TJ', 'VE', 'ET', 'XK'], 'external_urls': {'spotify': 'https://open.spotify.com/album/3T4tUhGYeRNVUGevb0wThu'}, 'href': 'https://api.spotify.com/v1/albums/3T4tUhGYeRNVUGevb0wThu', 'id': '3T4tUhGYeRNVUGevb0wThu', 'images': [{'height': 640, 'width': 640, 'url': 'https://i.scdn.co/image/ab67616d0000b273ba5db46f4b838ef6027e6f96'}, {'height': 300, 'width': 300, 'url': 'https://i.scdn.co/image/ab67616d00001e02ba5db46f4b838ef6027e6f96'}, {'height': 64, 'width': 64, 'url': 'https://i.scdn.co/image/ab67616d00004851ba5db46f4b838ef6027e6f96'}], 'is_playable': True, 'name': '÷ (Deluxe)', 'release_date': '2017-03-03', 'release_date_precision': 'day', 'total_tracks': 16, 'type': 'album', 'uri': 'spotify:album:3T4tUhGYeRNVUGevb0wThu'}, 'artists': [{'external_urls': {'spotify': 'https://open.spotify.com/artist/6eUKZXaKkcviH0Ku9w2n3V'}, 'href': 'https://api.spotify.com/v1/artists/6eUKZXaKkcviH0Ku9w2n3V', 'id': '6eUKZXaKkcviH0Ku9w2n3V', 'name': 'Ed Sheeran', 'type': 'artist', 'uri': 'spotify:artist:6eUKZXaKkcviH0Ku9w2n3V'}], 'available_markets': ['AR', 'AU', 'AT', 'BE', 'BO', 'BR', 'BG', 'CA', 'CL', 'CO', 'CR', 'CY', 'CZ', 'DK', 'DO', 'DE', 'EC', 'EE', 'SV', 'FI', 'FR', 'GR', 'GT', 'HN', 'HK', 'HU', 'IS', 'IE', 'IT', 'LV', 'LT', 'LU', 'MY', 'MT', 'MX', 'NL', 'NZ', 'NI', 'NO', 'PA', 'PY', 'PE', 'PH', 'PL', 'PT', 'SG', 'SK', 'ES', 'SE', 'CH', 'TW', 'TR', 'UY', 'US', 'GB', 'AD', 'LI', 'MC', 'ID', 'JP', 'TH', 'VN', 'RO', 'IL', 'ZA', 'SA', 'AE', 'BH', 'QA', 'OM', 'KW', 'EG', 'MA', 'DZ', 'TN', 'LB', 'JO', 'PS', 'IN', 'BY', 'KZ', 'MD', 'UA', 'AL', 'BA', 'HR', 'ME', 'MK', 'RS', 'SI', 'KR', 'BD', 'PK', 'LK', 'GH', 'KE', 'NG', 'TZ', 'UG', 'AG', 'AM', 'BS', 'BB', 'BZ', 'BT', 'BW', 'BF', 'CV', 'CW', 'DM', 'FJ', 'GM', 'GE', 'GD', 'GW', 'GY', 'HT', 'JM', 'KI', 'LS', 'LR', 'MW', 'MV', 'ML', 'MH', 'FM', 'NA', 'NR', 'NE', 'PW', 'PG', 'WS', 'SM', 'ST', 'SN', 'SC', 'SL', 'SB', 'KN', 'LC', 'VC', 'SR', 'TL', 'TO', 'TT', 'TV', 'VU', 'AZ', 'BN', 'BI', 'KH', 'CM', 'TD', 'KM', 'GQ', 'SZ', 'GA', 'GN', 'KG', 'LA', 'MO', 'MR', 'MN', 'NP', 'RW', 'TG', 'UZ', 'ZW', 'BJ', 'MG', 'MU', 'MZ', 'AO', 'CI', 'DJ', 'ZM', 'CD', 'CG', 'IQ', 'LY', 'TJ', 'VE', 'ET', 'XK'], 'disc_number': 1, 'duration_ms': 233712, 'explicit': False, 'external_ids': {'isrc': 'GBAHS1600463'}, 'external_urls': {'spotify': 'https://open.spotify.com/track/7qiZfU4dY1lWllzX7mPBI3'}, 'href': 'https://api.spotify.com/v1/tracks/7qiZfU4dY1lWllzX7mPBI3', 'id': '7qiZfU4dY1lWllzX7mPBI3', 'is_local': False, 'is_playable': True, 'name': 'Shape of You', 'popularity': 90, 'preview_url': None, 'track_number': 4, 'type': 'track', 'uri': 'spotify:track:7qiZfU4dY1lWllzX7mPBI3'}]}}\n"
     ]
    }
   ],
   "source": [
    "from spotipy.oauth2 import SpotifyClientCredentials\n",
    "import spotipy\n",
    "\n",
    "client_id = '56361105697d46ea9e53141a17318a92'\n",
    "client_secret = '49031fc7415f4aada9fb51244f7a7866'\n",
    "\n",
    "\n",
    "auth_manager = SpotifyClientCredentials(client_id=client_id, client_secret=client_secret)\n",
    "sp = spotipy.Spotify(auth_manager=auth_manager)\n",
    "\n",
    "# Test with a public call\n",
    "results = sp.search(q='Shape of You', limit=1, type='track')\n",
    "print(results)\n"
   ]
  },
  {
   "cell_type": "code",
   "execution_count": null,
   "id": "37b1d40a",
   "metadata": {},
   "outputs": [],
   "source": [
    "df['Explicit Track'] = df['Explicit Track'].map({'Yes': 1, 'No': 0})\n"
   ]
  }
 ],
 "metadata": {
  "kernelspec": {
   "display_name": "Python 3",
   "language": "python",
   "name": "python3"
  },
  "language_info": {
   "codemirror_mode": {
    "name": "ipython",
    "version": 3
   },
   "file_extension": ".py",
   "mimetype": "text/x-python",
   "name": "python",
   "nbconvert_exporter": "python",
   "pygments_lexer": "ipython3",
   "version": "3.13.3"
  }
 },
 "nbformat": 4,
 "nbformat_minor": 5
}
